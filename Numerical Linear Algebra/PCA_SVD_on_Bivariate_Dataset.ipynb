{
  "cells": [
    {
      "cell_type": "code",
      "execution_count": null,
      "id": "conceptual-ancient",
      "metadata": {
        "id": "conceptual-ancient"
      },
      "outputs": [],
      "source": [
        "import numpy as np \n",
        "import numpy.linalg as nl\n",
        "import matplotlib.pyplot as plt\n",
        "import pandas as pd\n",
        "import scipy.optimize as so\n",
        "import scipy.linalg as sl\n",
        "#import jax.numpy as jnp\n",
        "#from jax import grad\n",
        "\n",
        "import math\n",
        "import sklearn.datasets"
      ]
    },
    {
      "cell_type": "markdown",
      "id": "found-replica",
      "metadata": {
        "id": "found-replica"
      },
      "source": [
        "# PCA SVD"
      ]
    },
    {
      "cell_type": "markdown",
      "id": "hawaiian-exhibit",
      "metadata": {
        "id": "hawaiian-exhibit"
      },
      "source": [
        "## Part (a):"
      ]
    },
    {
      "cell_type": "code",
      "execution_count": null,
      "id": "caring-fraud",
      "metadata": {
        "id": "caring-fraud",
        "outputId": "3ce9f364-f53b-45e1-ec4d-e13d2b0fa7ac"
      },
      "outputs": [
        {
          "name": "stdout",
          "output_type": "stream",
          "text": [
            "            0         1\n",
            "0    0.392419  0.140249\n",
            "1    0.550044  0.406444\n",
            "2    0.616431  0.503982\n",
            "3    0.381552  0.278035\n",
            "4    0.945593  0.506211\n",
            "..        ...       ...\n",
            "295  0.559648 -0.167941\n",
            "296  0.881967 -0.568163\n",
            "297  0.905806  0.813619\n",
            "298  0.904662  0.804778\n",
            "299  0.451035  0.382836\n",
            "\n",
            "[300 rows x 2 columns]\n"
          ]
        }
      ],
      "source": [
        "# Reading the bivariate data set:\n",
        "bivar_data =  pd.read_csv(\"Q6_bivariate.csv\", header=None)\n",
        "print(bivar_data)"
      ]
    },
    {
      "cell_type": "code",
      "execution_count": null,
      "id": "right-commissioner",
      "metadata": {
        "id": "right-commissioner",
        "outputId": "003ea721-0acb-4e1e-da41-1e018e3f3f09"
      },
      "outputs": [
        {
          "name": "stdout",
          "output_type": "stream",
          "text": [
            "(300, 2) \n",
            "\n",
            "[[ 3.92419170e-01  1.40249280e-01]\n",
            " [ 5.50043824e-01  4.06443983e-01]\n",
            " [ 6.16431388e-01  5.03982363e-01]\n",
            " [ 3.81552384e-01  2.78035211e-01]\n",
            " [ 9.45593000e-01  5.06210890e-01]\n",
            " [ 2.29100793e-01  3.36496147e-01]\n",
            " [ 9.36813371e-01  8.28354115e-01]\n",
            " [ 7.62154312e-01  5.97312862e-01]\n",
            " [ 1.95103703e-01 -9.45910877e-03]\n",
            " [ 3.69509848e-01 -8.95449815e-01]\n",
            " [ 3.83943600e-01  1.17637534e-01]\n",
            " [ 7.70049856e-02 -1.04147461e-01]\n",
            " [ 5.18927400e-01 -2.86777941e-01]\n",
            " [ 4.40489979e-01  5.85101548e-01]\n",
            " [ 2.91668208e-01  1.55559311e-01]\n",
            " [ 7.60371571e-01  4.52131506e-01]\n",
            " [ 2.47364073e-01 -1.65042538e-01]\n",
            " [ 5.00156292e-01 -3.62647034e-01]\n",
            " [ 6.14005186e-01 -6.52174405e-02]\n",
            " [ 6.02583948e-01  3.16666009e-01]\n",
            " [ 8.78304488e-01  5.98161145e-01]\n",
            " [ 9.93230715e-01  1.09806319e+00]\n",
            " [ 9.03322706e-01  5.54417709e-01]\n",
            " [ 4.92786922e-01 -1.51161331e-02]\n",
            " [ 2.82031262e-01 -7.05896511e-03]\n",
            " [ 6.20905418e-01 -1.71039320e-01]\n",
            " [ 4.19526764e-01  2.88658874e-01]\n",
            " [ 8.18952268e-01  7.01321902e-01]\n",
            " [ 1.13249265e-01 -3.26250405e-01]\n",
            " [ 2.20409048e-01 -2.63564548e-01]\n",
            " [ 5.41336728e-01  6.19705300e-01]\n",
            " [ 4.98050049e-01  3.98240383e-01]\n",
            " [ 5.41984651e-02 -2.77799614e-01]\n",
            " [ 5.43200848e-01  7.05269040e-01]\n",
            " [ 5.51827735e-02 -4.14622602e-01]\n",
            " [ 2.94283164e-01  6.02883749e-01]\n",
            " [ 5.57270795e-02 -3.03059130e-01]\n",
            " [ 1.97138643e-01  2.57194224e-01]\n",
            " [ 2.59921579e-01  1.77122209e-01]\n",
            " [ 5.66834869e-01 -2.31289685e-01]\n",
            " [ 3.95681554e-01  1.41148451e-01]\n",
            " [ 4.10306408e-01 -4.37699272e-01]\n",
            " [ 3.15870578e-01 -1.75711630e-01]\n",
            " [ 3.90489472e-01 -2.50662964e-01]\n",
            " [ 2.02164802e-01 -3.25885555e-01]\n",
            " [ 9.80372641e-01  7.54958914e-01]\n",
            " [ 2.76568628e-01  2.96858457e-02]\n",
            " [ 1.17129896e-01  1.70199183e-01]\n",
            " [ 6.48959778e-01  2.03066825e-01]\n",
            " [ 4.04493713e-01  1.28906902e-01]\n",
            " [ 8.30656625e-01  9.86058651e-01]\n",
            " [ 8.29974627e-01  4.50657951e-01]\n",
            " [ 1.26380309e-01 -3.05441803e-01]\n",
            " [ 8.84696015e-01  4.00104186e-01]\n",
            " [ 1.45387491e-01 -2.20888841e-01]\n",
            " [ 2.65113512e-01 -1.76824816e-01]\n",
            " [ 4.09330240e-01  3.92934328e-01]\n",
            " [ 9.08217003e-02  1.34244490e-01]\n",
            " [ 7.16164147e-01  1.01786995e-01]\n",
            " [ 7.94164141e-01  5.07107036e-01]\n",
            " [ 1.53585492e-01 -5.56596652e-02]\n",
            " [ 5.82574732e-01  1.64560292e-01]\n",
            " [ 1.31739202e-01 -2.01185155e-02]\n",
            " [ 8.34267855e-01  6.99547302e-01]\n",
            " [ 6.69605655e-01  2.86036537e-01]\n",
            " [ 8.14038660e-01  5.28538022e-01]\n",
            " [ 3.11003875e-01  6.88591665e-01]\n",
            " [ 9.21285360e-02 -6.88345697e-01]\n",
            " [ 6.07167139e-01  4.35165024e-01]\n",
            " [ 8.72607520e-01  4.76969050e-01]\n",
            " [ 4.31246040e-01  4.46713795e-01]\n",
            " [ 1.02301825e-01 -2.46233805e-01]\n",
            " [ 7.47103404e-01  2.39195094e-01]\n",
            " [ 1.37963082e-01 -1.85198146e-01]\n",
            " [ 9.91143577e-01  8.80765305e-01]\n",
            " [ 8.43615529e-01  1.01373710e+00]\n",
            " [ 6.43855139e-01 -1.97397601e-02]\n",
            " [ 7.14176808e-01  6.16769086e-01]\n",
            " [ 9.79517691e-01  7.87925911e-01]\n",
            " [ 6.53842913e-01  3.80322769e-01]\n",
            " [ 7.65789338e-02 -2.01160109e-01]\n",
            " [ 9.93338644e-01  4.37536753e-01]\n",
            " [ 2.08171284e-01 -3.42209196e-01]\n",
            " [ 7.24964376e-01  6.21090897e-01]\n",
            " [ 4.27186436e-01 -5.28316020e-02]\n",
            " [ 7.52099345e-01  5.63860944e-01]\n",
            " [ 2.72702852e-02 -5.54889534e-01]\n",
            " [ 2.77412945e-02 -4.78046384e-01]\n",
            " [ 4.06701533e-01  2.49088503e-01]\n",
            " [ 3.29174597e-01 -2.15590695e-01]\n",
            " [ 6.44970348e-01  6.61063797e-01]\n",
            " [ 9.59115489e-01  9.65042942e-01]\n",
            " [ 9.33752038e-01  3.27249827e-01]\n",
            " [ 2.40815764e-01  2.54749051e-01]\n",
            " [ 2.76470427e-01  3.44359561e-01]\n",
            " [ 8.69098552e-01  3.76455093e-01]\n",
            " [ 4.58695340e-01  2.81853012e-01]\n",
            " [ 1.60915092e-01  3.16181367e-01]\n",
            " [ 3.36267181e-01  5.97755911e-01]\n",
            " [ 3.42951988e-01  1.62881889e-01]\n",
            " [ 3.60162192e-01  3.34264206e-02]\n",
            " [ 6.14578981e-01  6.15515809e-01]\n",
            " [ 6.46289030e-01  3.88501655e-01]\n",
            " [ 2.32077570e-01  3.87708811e-01]\n",
            " [ 6.08199732e-02 -8.66549739e-02]\n",
            " [ 9.86651453e-01  1.06036223e+00]\n",
            " [ 5.49400736e-01  8.34242323e-01]\n",
            " [ 7.33914539e-01  5.78518416e-01]\n",
            " [ 8.35886927e-02 -1.22928711e-01]\n",
            " [ 9.56941672e-01  1.10415123e+00]\n",
            " [ 5.54743584e-01  6.40531749e-01]\n",
            " [ 2.11786800e-02 -4.91758910e-01]\n",
            " [ 4.05078660e-01 -5.15948408e-01]\n",
            " [ 7.57324273e-01  4.06224138e-01]\n",
            " [ 2.09064777e-01 -5.17748346e-02]\n",
            " [ 9.09256929e-01  1.23932963e+00]\n",
            " [ 9.03167234e-01  7.04638591e-01]\n",
            " [ 2.96087677e-01  2.12822531e-02]\n",
            " [ 5.53036542e-01  5.51738378e-01]\n",
            " [ 3.82126702e-01  1.66342339e-02]\n",
            " [ 6.20734966e-01  7.81432055e-01]\n",
            " [ 6.33113887e-01  6.05972145e-01]\n",
            " [ 6.66196254e-01  8.28377112e-01]\n",
            " [ 2.16396948e-01 -4.38683102e-01]\n",
            " [ 1.79975425e-01 -1.56593048e-01]\n",
            " [ 7.32148339e-01  5.30528691e-04]\n",
            " [ 4.70239688e-01  7.44817651e-02]\n",
            " [ 9.88216500e-01  1.11440288e+00]\n",
            " [ 3.53988332e-01  4.78152727e-01]\n",
            " [ 8.64586650e-01  8.22865965e-01]\n",
            " [ 1.04759422e-01 -4.74247625e-01]\n",
            " [ 7.46560863e-01  5.73975644e-01]\n",
            " [ 5.86750171e-01  2.29960386e-01]\n",
            " [ 9.38213919e-01  4.38579637e-01]\n",
            " [ 2.84784001e-01  1.41696338e-01]\n",
            " [ 2.59799129e-01  8.45597639e-02]\n",
            " [ 2.80520358e-01 -1.72900291e-01]\n",
            " [ 5.10848589e-01 -7.35558423e-01]\n",
            " [ 3.99474570e-01  3.43717964e-01]\n",
            " [ 5.28783075e-01 -1.19217892e-01]\n",
            " [ 1.01126673e-01  3.39710151e-02]\n",
            " [ 9.84186737e-01  5.55099086e-01]\n",
            " [ 5.25372273e-01  9.63938852e-01]\n",
            " [ 6.43296285e-01  6.88939613e-03]\n",
            " [ 6.94834813e-01  3.75530422e-01]\n",
            " [ 8.24209931e-01  4.84237336e-01]\n",
            " [ 5.48469573e-01  6.27856066e-01]\n",
            " [ 1.08585177e-01 -1.02618967e-01]\n",
            " [ 2.80218647e-01 -1.54559089e-01]\n",
            " [ 7.52631158e-01  4.71553480e-01]\n",
            " [ 8.06035633e-01  1.01372683e-01]\n",
            " [ 2.24760935e-01  6.90461765e-01]\n",
            " [ 1.92610924e-01  1.88766186e-01]\n",
            " [ 3.61126472e-02  1.01301488e-01]\n",
            " [ 4.33240180e-01  1.33116166e-01]\n",
            " [ 9.87405242e-01  1.13854873e+00]\n",
            " [ 7.60812242e-01  7.78961220e-02]\n",
            " [ 6.39389357e-02 -8.94160313e-02]\n",
            " [ 5.57970317e-01  7.98920230e-02]\n",
            " [ 8.98918627e-01  1.12699243e+00]\n",
            " [ 5.00670240e-01 -5.07290180e-02]\n",
            " [ 6.20940558e-01  6.01071930e-01]\n",
            " [ 7.14867094e-01  1.01215958e+00]\n",
            " [ 4.39316292e-01 -5.81047522e-02]\n",
            " [ 4.81599629e-01  2.03879285e-01]\n",
            " [ 2.52485714e-01 -2.32048143e-01]\n",
            " [ 1.28965924e-01 -2.62994945e-01]\n",
            " [ 9.56390221e-01  1.07237122e+00]\n",
            " [ 6.58204378e-01  5.12196094e-01]\n",
            " [ 1.01639807e-01 -5.25527894e-01]\n",
            " [ 2.49113546e-02 -3.58769759e-02]\n",
            " [ 5.83373269e-01  2.57525419e-01]\n",
            " [ 3.22903234e-01 -1.00894236e-01]\n",
            " [ 3.13414824e-01  3.55762315e-02]\n",
            " [ 2.68520498e-01  1.19039074e-01]\n",
            " [ 1.98630671e-01  4.93419410e-01]\n",
            " [ 1.55365944e-01 -1.04451902e-01]\n",
            " [ 9.16430407e-01  1.29437910e+00]\n",
            " [ 2.69245716e-01  5.70808495e-01]\n",
            " [ 5.13604042e-01  3.88055754e-01]\n",
            " [ 5.03083614e-01  9.50479388e-02]\n",
            " [ 4.83865803e-01 -6.17216009e-02]\n",
            " [ 1.76451830e-01  1.48907632e-01]\n",
            " [ 6.51620620e-01  3.11434410e-01]\n",
            " [ 8.14504201e-02 -3.84461929e-01]\n",
            " [ 7.72543573e-02 -3.18225245e-01]\n",
            " [ 7.07528953e-01  3.91718108e-02]\n",
            " [ 6.70153360e-01 -1.30775739e-01]\n",
            " [ 9.61945738e-01  5.96097227e-01]\n",
            " [ 6.75132896e-01  3.94316751e-01]\n",
            " [ 4.55145606e-01 -4.02005755e-01]\n",
            " [ 9.36643296e-01  5.20671460e-01]\n",
            " [ 4.85922445e-01  2.53213112e-01]\n",
            " [ 4.72924216e-01  3.20555715e-01]\n",
            " [ 3.20253484e-01  3.62740240e-01]\n",
            " [ 2.58691424e-01 -4.35902533e-01]\n",
            " [ 2.93428589e-02 -3.55251473e-01]\n",
            " [ 2.30951376e-02 -4.21426750e-02]\n",
            " [ 8.34416481e-01  6.38759279e-01]\n",
            " [ 6.87716073e-01  4.87946016e-01]\n",
            " [ 2.80187542e-01 -3.53669083e-01]\n",
            " [ 1.13567391e-01  4.36336538e-01]\n",
            " [ 1.01181811e-01 -8.43799881e-02]\n",
            " [ 4.14851196e-01  7.12620104e-01]\n",
            " [ 6.27760981e-01  7.08147895e-01]\n",
            " [ 4.32973642e-01 -6.68421626e-01]\n",
            " [ 4.98678808e-02  2.36362163e-01]\n",
            " [ 5.29875355e-01  5.46780431e-01]\n",
            " [ 1.17376288e-01  1.98067712e-01]\n",
            " [ 4.49803463e-01  2.35698455e-01]\n",
            " [ 4.50854315e-02 -5.74436635e-01]\n",
            " [ 2.90501693e-02 -6.62389254e-02]\n",
            " [ 2.29140371e-01 -5.20805037e-01]\n",
            " [ 5.40691164e-01  2.10784027e-01]\n",
            " [ 1.50562805e-01 -4.17964733e-01]\n",
            " [ 1.08129360e-01  2.27758800e-01]\n",
            " [ 2.61061367e-01  1.86982819e-02]\n",
            " [ 1.05998006e-01 -5.18948351e-01]\n",
            " [ 4.32705251e-02 -6.66061334e-01]\n",
            " [ 8.59963695e-01  5.59675143e-01]\n",
            " [ 3.29925173e-01  5.36713634e-01]\n",
            " [ 6.99139545e-01 -1.50988466e-01]\n",
            " [ 2.77974311e-01 -3.55600644e-02]\n",
            " [ 1.01856087e-01 -4.62964201e-01]\n",
            " [ 2.63195677e-01  1.93846005e-02]\n",
            " [ 8.66168134e-03 -6.46290401e-01]\n",
            " [ 9.80863108e-01  6.24050405e-01]\n",
            " [ 4.66765549e-01  3.21547649e-01]\n",
            " [ 7.29314389e-01  9.47381412e-01]\n",
            " [ 6.89548787e-01  3.79678549e-01]\n",
            " [ 7.06010129e-01  2.42294376e-01]\n",
            " [ 1.59524641e-01 -6.87008486e-01]\n",
            " [ 4.92230284e-01  1.22813024e-01]\n",
            " [ 4.27091712e-01  2.34207147e-01]\n",
            " [ 2.71771286e-02 -3.14267512e-01]\n",
            " [ 9.29256767e-01  9.85234284e-01]\n",
            " [ 6.56118067e-01  6.43858283e-01]\n",
            " [ 6.67093302e-01  3.07194838e-01]\n",
            " [ 3.35950958e-02 -2.58444715e-01]\n",
            " [ 3.98288516e-01 -1.33828134e-01]\n",
            " [ 6.02449390e-02  1.35358870e-01]\n",
            " [ 4.08136459e-01  3.07194116e-01]\n",
            " [ 8.21494764e-01  4.53455001e-01]\n",
            " [ 1.78113275e-01 -1.57663361e-01]\n",
            " [ 1.87700046e-01 -2.39244521e-01]\n",
            " [ 7.85646928e-01  5.44438387e-01]\n",
            " [ 9.64466766e-01  5.31813681e-01]\n",
            " [ 9.74460090e-02 -3.24205745e-01]\n",
            " [ 4.04088812e-01  1.38784293e-01]\n",
            " [ 6.55432063e-01  1.08982520e-01]\n",
            " [ 6.39440061e-01  1.25717915e-01]\n",
            " [ 4.15725273e-01  2.16950217e-01]\n",
            " [ 8.85147309e-01  3.59804165e-01]\n",
            " [ 3.10123810e-02 -4.20307211e-01]\n",
            " [ 2.10787224e-01 -1.73641711e-01]\n",
            " [ 9.92690030e-01  9.01740283e-01]\n",
            " [ 1.66475511e-01 -1.25069301e-01]\n",
            " [ 3.15690601e-01 -2.46886792e-02]\n",
            " [ 3.68168867e-01  4.34419362e-01]\n",
            " [ 3.05721142e-01 -2.29386599e-01]\n",
            " [ 8.31780672e-01  1.48940118e+00]\n",
            " [ 9.22306514e-01  1.17207112e+00]\n",
            " [ 7.03496071e-01  1.12544815e+00]\n",
            " [ 4.68341465e-01  1.49057795e-01]\n",
            " [ 6.67115688e-01 -2.09606863e-01]\n",
            " [ 9.90573797e-01  1.31607503e+00]\n",
            " [ 9.05871875e-01  5.40204792e-01]\n",
            " [ 2.20814928e-01 -4.24339945e-01]\n",
            " [ 1.59204428e-01  3.74589036e-01]\n",
            " [ 9.78311006e-01  1.35715235e+00]\n",
            " [ 8.38549731e-01  1.03550576e+00]\n",
            " [ 1.05678610e-01  2.22313268e-01]\n",
            " [ 5.23338630e-01  3.53841223e-01]\n",
            " [ 1.41989606e-01 -8.50667665e-01]\n",
            " [ 2.25944027e-01  1.45093464e-01]\n",
            " [ 6.34905602e-01  8.92763019e-01]\n",
            " [ 4.38750691e-01  4.07016317e-01]\n",
            " [ 5.84824820e-01  6.76580731e-01]\n",
            " [ 7.58814211e-01  3.74953959e-01]\n",
            " [ 6.94874057e-01  2.23354306e-01]\n",
            " [ 6.52391155e-01  8.46939467e-01]\n",
            " [ 9.44067836e-01  7.89259034e-01]\n",
            " [ 9.75352903e-01  9.49603120e-01]\n",
            " [ 8.87436590e-01  6.18002242e-01]\n",
            " [ 2.69447098e-01 -3.15847087e-03]\n",
            " [ 7.94279581e-01  3.61209036e-01]\n",
            " [ 8.11103969e-01  4.73202268e-01]\n",
            " [ 9.87108125e-01  5.83850062e-01]\n",
            " [ 6.48402955e-01  3.08203412e-01]\n",
            " [ 8.54179618e-02 -3.12037006e-01]\n",
            " [ 7.75644049e-01  3.80475675e-01]\n",
            " [ 2.88954016e-01 -5.54667046e-02]\n",
            " [ 6.18033934e-01  5.15967227e-01]\n",
            " [ 5.10126177e-01  4.12105743e-02]\n",
            " [ 3.72347812e-02 -3.82475877e-01]\n",
            " [ 5.59647666e-01 -1.67941477e-01]\n",
            " [ 8.81967388e-01 -5.68162982e-01]\n",
            " [ 9.05805836e-01  8.13618755e-01]\n",
            " [ 9.04662272e-01  8.04778058e-01]\n",
            " [ 4.51034872e-01  3.82836219e-01]]\n"
          ]
        }
      ],
      "source": [
        "# Converting dataset to array:\n",
        "bivar_data = bivar_data.values\n",
        "print(bivar_data.shape, \"\\n\")\n",
        "print(bivar_data)"
      ]
    },
    {
      "cell_type": "code",
      "execution_count": null,
      "id": "attempted-stress",
      "metadata": {
        "id": "attempted-stress",
        "outputId": "1d2f0870-9b11-4050-c8bb-15db1bf263a0"
      },
      "outputs": [
        {
          "name": "stdout",
          "output_type": "stream",
          "text": [
            "Shape of input vector: (300,)\n",
            "Shape of output vector: (300,)\n"
          ]
        }
      ],
      "source": [
        "# Creating input and output vectors:\n",
        "input = bivar_data[:, 0]\n",
        "output = bivar_data[:, 1]\n",
        "\n",
        "print(\"Shape of input vector:\", input.shape)\n",
        "print(\"Shape of output vector:\", output.shape)\n",
        "# print(input)\n",
        "# print(output)"
      ]
    },
    {
      "cell_type": "code",
      "execution_count": null,
      "id": "uniform-output",
      "metadata": {
        "scrolled": true,
        "id": "uniform-output",
        "outputId": "5522edef-bf04-468b-aa68-b273bb5f1f8f"
      },
      "outputs": [
        {
          "data": {
            "image/png": "[encoded data removed]",
            "text/plain": [
              "<Figure size 432x288 with 1 Axes>"
            ]
          },
          "metadata": {
            "needs_background": "light"
          },
          "output_type": "display_data"
        }
      ],
      "source": [
        "# Plotting:\n",
        "plt.scatter(input, output)\n",
        "\n",
        "plt.title(\"Raw Bivariate Dataset\")\n",
        "plt.xlabel(\"Input\")\n",
        "plt.ylabel(\"Output\")\n",
        "plt.grid()\n",
        "plt.show()"
      ]
    },
    {
      "cell_type": "markdown",
      "id": "brief-nitrogen",
      "metadata": {
        "id": "brief-nitrogen"
      },
      "source": [
        "## Part (b):"
      ]
    },
    {
      "cell_type": "code",
      "execution_count": null,
      "id": "informal-charleston",
      "metadata": {
        "id": "informal-charleston",
        "outputId": "f0329854-862c-42e8-ad52-33eac3fa2136"
      },
      "outputs": [
        {
          "name": "stdout",
          "output_type": "stream",
          "text": [
            "Shape of X: (300, 2)\n",
            "Shape of XT: (2, 300)\n",
            "Shape of Y: (300, 1)\n",
            "Shape of XT_X: (2, 2)\n",
            "Shape of XT_y: (2, 1)\n",
            "\n",
            "Shape of betas: (2, 1)\n",
            "[[-0.30746734]\n",
            " [ 1.10517574]]\n"
          ]
        }
      ],
      "source": [
        "# Analytical Solution for OLS:\n",
        "X = np.vstack([np.ones(len(input)), input]).T\n",
        "print(\"Shape of X:\", X.shape)\n",
        "# print(X)\n",
        "\n",
        "XT = np.matrix.transpose(X)\n",
        "print(\"Shape of XT:\", XT.shape)\n",
        "# print(XT)\n",
        "\n",
        "Y = np.vstack([output]).T\n",
        "print(\"Shape of Y:\", Y.shape)\n",
        "# print(Y)\n",
        "\n",
        "XT_X = np.matmul(XT, X)\n",
        "print(\"Shape of XT_X:\", XT_X.shape)\n",
        "# print(XT_X)\n",
        "\n",
        "XT_Y = np.matmul(XT, Y)\n",
        "print(\"Shape of XT_y:\", XT_Y.shape)\n",
        "# print(XT_y)\n",
        "print()\n",
        "\n",
        "betas = np.matmul(np.linalg.inv(XT_X), XT_Y)\n",
        "print(\"Shape of betas:\", betas.shape)\n",
        "print(betas)"
      ]
    },
    {
      "cell_type": "code",
      "execution_count": null,
      "id": "binary-ethics",
      "metadata": {
        "id": "binary-ethics",
        "outputId": "f8fe6399-e84d-4127-e2e9-5a7ba2f9bb0d"
      },
      "outputs": [
        {
          "name": "stdout",
          "output_type": "stream",
          "text": [
            "Shape of y: (300, 2)\n",
            "Shape of X: (300, 2)\n"
          ]
        },
        {
          "data": {
            "image/png": "[encoded data removed]",
            "text/plain": [
              "<Figure size 432x288 with 1 Axes>"
            ]
          },
          "metadata": {
            "needs_background": "light"
          },
          "output_type": "display_data"
        }
      ],
      "source": [
        "# Defining Line of Best Fit:\n",
        "y = betas[0] + betas[1]*X\n",
        "print(\"Shape of y:\", y.shape)\n",
        "print(\"Shape of X:\", X.shape)\n",
        "\n",
        "# Redefining variable X:\n",
        "X_ols = X\n",
        "# Plotting:\n",
        "plt.scatter(input, output)\n",
        "plt.plot(X_ols, y, label = \"OLS\", color=\"k\")\n",
        "\n",
        "\n",
        "plt.title(\"Raw Bivariate Dataset\")\n",
        "plt.xlabel(\"Input\")\n",
        "plt.ylabel(\"Output\")\n",
        "plt.legend()\n",
        "plt.grid()\n",
        "plt.show()\n"
      ]
    },
    {
      "cell_type": "markdown",
      "id": "worst-pittsburgh",
      "metadata": {
        "id": "worst-pittsburgh"
      },
      "source": [
        "## Part (c):"
      ]
    },
    {
      "cell_type": "code",
      "execution_count": null,
      "id": "united-burton",
      "metadata": {
        "id": "united-burton",
        "outputId": "483e900f-7679-4131-ad7d-758dde8a26ff"
      },
      "outputs": [
        {
          "name": "stdout",
          "output_type": "stream",
          "text": [
            "Shape of Matrix X: (300, 2)\n",
            "[[ 3.92419170e-01  1.40249280e-01]\n",
            " [ 5.50043824e-01  4.06443983e-01]\n",
            " [ 6.16431388e-01  5.03982363e-01]\n",
            " [ 3.81552384e-01  2.78035211e-01]\n",
            " [ 9.45593000e-01  5.06210890e-01]\n",
            " [ 2.29100793e-01  3.36496147e-01]\n",
            " [ 9.36813371e-01  8.28354115e-01]\n",
            " [ 7.62154312e-01  5.97312862e-01]\n",
            " [ 1.95103703e-01 -9.45910877e-03]\n",
            " [ 3.69509848e-01 -8.95449815e-01]\n",
            " [ 3.83943600e-01  1.17637534e-01]\n",
            " [ 7.70049856e-02 -1.04147461e-01]\n",
            " [ 5.18927400e-01 -2.86777941e-01]\n",
            " [ 4.40489979e-01  5.85101548e-01]\n",
            " [ 2.91668208e-01  1.55559311e-01]\n",
            " [ 7.60371571e-01  4.52131506e-01]\n",
            " [ 2.47364073e-01 -1.65042538e-01]\n",
            " [ 5.00156292e-01 -3.62647034e-01]\n",
            " [ 6.14005186e-01 -6.52174405e-02]\n",
            " [ 6.02583948e-01  3.16666009e-01]\n",
            " [ 8.78304488e-01  5.98161145e-01]\n",
            " [ 9.93230715e-01  1.09806319e+00]\n",
            " [ 9.03322706e-01  5.54417709e-01]\n",
            " [ 4.92786922e-01 -1.51161331e-02]\n",
            " [ 2.82031262e-01 -7.05896511e-03]\n",
            " [ 6.20905418e-01 -1.71039320e-01]\n",
            " [ 4.19526764e-01  2.88658874e-01]\n",
            " [ 8.18952268e-01  7.01321902e-01]\n",
            " [ 1.13249265e-01 -3.26250405e-01]\n",
            " [ 2.20409048e-01 -2.63564548e-01]\n",
            " [ 5.41336728e-01  6.19705300e-01]\n",
            " [ 4.98050049e-01  3.98240383e-01]\n",
            " [ 5.41984651e-02 -2.77799614e-01]\n",
            " [ 5.43200848e-01  7.05269040e-01]\n",
            " [ 5.51827735e-02 -4.14622602e-01]\n",
            " [ 2.94283164e-01  6.02883749e-01]\n",
            " [ 5.57270795e-02 -3.03059130e-01]\n",
            " [ 1.97138643e-01  2.57194224e-01]\n",
            " [ 2.59921579e-01  1.77122209e-01]\n",
            " [ 5.66834869e-01 -2.31289685e-01]\n",
            " [ 3.95681554e-01  1.41148451e-01]\n",
            " [ 4.10306408e-01 -4.37699272e-01]\n",
            " [ 3.15870578e-01 -1.75711630e-01]\n",
            " [ 3.90489472e-01 -2.50662964e-01]\n",
            " [ 2.02164802e-01 -3.25885555e-01]\n",
            " [ 9.80372641e-01  7.54958914e-01]\n",
            " [ 2.76568628e-01  2.96858457e-02]\n",
            " [ 1.17129896e-01  1.70199183e-01]\n",
            " [ 6.48959778e-01  2.03066825e-01]\n",
            " [ 4.04493713e-01  1.28906902e-01]\n",
            " [ 8.30656625e-01  9.86058651e-01]\n",
            " [ 8.29974627e-01  4.50657951e-01]\n",
            " [ 1.26380309e-01 -3.05441803e-01]\n",
            " [ 8.84696015e-01  4.00104186e-01]\n",
            " [ 1.45387491e-01 -2.20888841e-01]\n",
            " [ 2.65113512e-01 -1.76824816e-01]\n",
            " [ 4.09330240e-01  3.92934328e-01]\n",
            " [ 9.08217003e-02  1.34244490e-01]\n",
            " [ 7.16164147e-01  1.01786995e-01]\n",
            " [ 7.94164141e-01  5.07107036e-01]\n",
            " [ 1.53585492e-01 -5.56596652e-02]\n",
            " [ 5.82574732e-01  1.64560292e-01]\n",
            " [ 1.31739202e-01 -2.01185155e-02]\n",
            " [ 8.34267855e-01  6.99547302e-01]\n",
            " [ 6.69605655e-01  2.86036537e-01]\n",
            " [ 8.14038660e-01  5.28538022e-01]\n",
            " [ 3.11003875e-01  6.88591665e-01]\n",
            " [ 9.21285360e-02 -6.88345697e-01]\n",
            " [ 6.07167139e-01  4.35165024e-01]\n",
            " [ 8.72607520e-01  4.76969050e-01]\n",
            " [ 4.31246040e-01  4.46713795e-01]\n",
            " [ 1.02301825e-01 -2.46233805e-01]\n",
            " [ 7.47103404e-01  2.39195094e-01]\n",
            " [ 1.37963082e-01 -1.85198146e-01]\n",
            " [ 9.91143577e-01  8.80765305e-01]\n",
            " [ 8.43615529e-01  1.01373710e+00]\n",
            " [ 6.43855139e-01 -1.97397601e-02]\n",
            " [ 7.14176808e-01  6.16769086e-01]\n",
            " [ 9.79517691e-01  7.87925911e-01]\n",
            " [ 6.53842913e-01  3.80322769e-01]\n",
            " [ 7.65789338e-02 -2.01160109e-01]\n",
            " [ 9.93338644e-01  4.37536753e-01]\n",
            " [ 2.08171284e-01 -3.42209196e-01]\n",
            " [ 7.24964376e-01  6.21090897e-01]\n",
            " [ 4.27186436e-01 -5.28316020e-02]\n",
            " [ 7.52099345e-01  5.63860944e-01]\n",
            " [ 2.72702852e-02 -5.54889534e-01]\n",
            " [ 2.77412945e-02 -4.78046384e-01]\n",
            " [ 4.06701533e-01  2.49088503e-01]\n",
            " [ 3.29174597e-01 -2.15590695e-01]\n",
            " [ 6.44970348e-01  6.61063797e-01]\n",
            " [ 9.59115489e-01  9.65042942e-01]\n",
            " [ 9.33752038e-01  3.27249827e-01]\n",
            " [ 2.40815764e-01  2.54749051e-01]\n",
            " [ 2.76470427e-01  3.44359561e-01]\n",
            " [ 8.69098552e-01  3.76455093e-01]\n",
            " [ 4.58695340e-01  2.81853012e-01]\n",
            " [ 1.60915092e-01  3.16181367e-01]\n",
            " [ 3.36267181e-01  5.97755911e-01]\n",
            " [ 3.42951988e-01  1.62881889e-01]\n",
            " [ 3.60162192e-01  3.34264206e-02]\n",
            " [ 6.14578981e-01  6.15515809e-01]\n",
            " [ 6.46289030e-01  3.88501655e-01]\n",
            " [ 2.32077570e-01  3.87708811e-01]\n",
            " [ 6.08199732e-02 -8.66549739e-02]\n",
            " [ 9.86651453e-01  1.06036223e+00]\n",
            " [ 5.49400736e-01  8.34242323e-01]\n",
            " [ 7.33914539e-01  5.78518416e-01]\n",
            " [ 8.35886927e-02 -1.22928711e-01]\n",
            " [ 9.56941672e-01  1.10415123e+00]\n",
            " [ 5.54743584e-01  6.40531749e-01]\n",
            " [ 2.11786800e-02 -4.91758910e-01]\n",
            " [ 4.05078660e-01 -5.15948408e-01]\n",
            " [ 7.57324273e-01  4.06224138e-01]\n",
            " [ 2.09064777e-01 -5.17748346e-02]\n",
            " [ 9.09256929e-01  1.23932963e+00]\n",
            " [ 9.03167234e-01  7.04638591e-01]\n",
            " [ 2.96087677e-01  2.12822531e-02]\n",
            " [ 5.53036542e-01  5.51738378e-01]\n",
            " [ 3.82126702e-01  1.66342339e-02]\n",
            " [ 6.20734966e-01  7.81432055e-01]\n",
            " [ 6.33113887e-01  6.05972145e-01]\n",
            " [ 6.66196254e-01  8.28377112e-01]\n",
            " [ 2.16396948e-01 -4.38683102e-01]\n",
            " [ 1.79975425e-01 -1.56593048e-01]\n",
            " [ 7.32148339e-01  5.30528691e-04]\n",
            " [ 4.70239688e-01  7.44817651e-02]\n",
            " [ 9.88216500e-01  1.11440288e+00]\n",
            " [ 3.53988332e-01  4.78152727e-01]\n",
            " [ 8.64586650e-01  8.22865965e-01]\n",
            " [ 1.04759422e-01 -4.74247625e-01]\n",
            " [ 7.46560863e-01  5.73975644e-01]\n",
            " [ 5.86750171e-01  2.29960386e-01]\n",
            " [ 9.38213919e-01  4.38579637e-01]\n",
            " [ 2.84784001e-01  1.41696338e-01]\n",
            " [ 2.59799129e-01  8.45597639e-02]\n",
            " [ 2.80520358e-01 -1.72900291e-01]\n",
            " [ 5.10848589e-01 -7.35558423e-01]\n",
            " [ 3.99474570e-01  3.43717964e-01]\n",
            " [ 5.28783075e-01 -1.19217892e-01]\n",
            " [ 1.01126673e-01  3.39710151e-02]\n",
            " [ 9.84186737e-01  5.55099086e-01]\n",
            " [ 5.25372273e-01  9.63938852e-01]\n",
            " [ 6.43296285e-01  6.88939613e-03]\n",
            " [ 6.94834813e-01  3.75530422e-01]\n",
            " [ 8.24209931e-01  4.84237336e-01]\n",
            " [ 5.48469573e-01  6.27856066e-01]\n",
            " [ 1.08585177e-01 -1.02618967e-01]\n",
            " [ 2.80218647e-01 -1.54559089e-01]\n",
            " [ 7.52631158e-01  4.71553480e-01]\n",
            " [ 8.06035633e-01  1.01372683e-01]\n",
            " [ 2.24760935e-01  6.90461765e-01]\n",
            " [ 1.92610924e-01  1.88766186e-01]\n",
            " [ 3.61126472e-02  1.01301488e-01]\n",
            " [ 4.33240180e-01  1.33116166e-01]\n",
            " [ 9.87405242e-01  1.13854873e+00]\n",
            " [ 7.60812242e-01  7.78961220e-02]\n",
            " [ 6.39389357e-02 -8.94160313e-02]\n",
            " [ 5.57970317e-01  7.98920230e-02]\n",
            " [ 8.98918627e-01  1.12699243e+00]\n",
            " [ 5.00670240e-01 -5.07290180e-02]\n",
            " [ 6.20940558e-01  6.01071930e-01]\n",
            " [ 7.14867094e-01  1.01215958e+00]\n",
            " [ 4.39316292e-01 -5.81047522e-02]\n",
            " [ 4.81599629e-01  2.03879285e-01]\n",
            " [ 2.52485714e-01 -2.32048143e-01]\n",
            " [ 1.28965924e-01 -2.62994945e-01]\n",
            " [ 9.56390221e-01  1.07237122e+00]\n",
            " [ 6.58204378e-01  5.12196094e-01]\n",
            " [ 1.01639807e-01 -5.25527894e-01]\n",
            " [ 2.49113546e-02 -3.58769759e-02]\n",
            " [ 5.83373269e-01  2.57525419e-01]\n",
            " [ 3.22903234e-01 -1.00894236e-01]\n",
            " [ 3.13414824e-01  3.55762315e-02]\n",
            " [ 2.68520498e-01  1.19039074e-01]\n",
            " [ 1.98630671e-01  4.93419410e-01]\n",
            " [ 1.55365944e-01 -1.04451902e-01]\n",
            " [ 9.16430407e-01  1.29437910e+00]\n",
            " [ 2.69245716e-01  5.70808495e-01]\n",
            " [ 5.13604042e-01  3.88055754e-01]\n",
            " [ 5.03083614e-01  9.50479388e-02]\n",
            " [ 4.83865803e-01 -6.17216009e-02]\n",
            " [ 1.76451830e-01  1.48907632e-01]\n",
            " [ 6.51620620e-01  3.11434410e-01]\n",
            " [ 8.14504201e-02 -3.84461929e-01]\n",
            " [ 7.72543573e-02 -3.18225245e-01]\n",
            " [ 7.07528953e-01  3.91718108e-02]\n",
            " [ 6.70153360e-01 -1.30775739e-01]\n",
            " [ 9.61945738e-01  5.96097227e-01]\n",
            " [ 6.75132896e-01  3.94316751e-01]\n",
            " [ 4.55145606e-01 -4.02005755e-01]\n",
            " [ 9.36643296e-01  5.20671460e-01]\n",
            " [ 4.85922445e-01  2.53213112e-01]\n",
            " [ 4.72924216e-01  3.20555715e-01]\n",
            " [ 3.20253484e-01  3.62740240e-01]\n",
            " [ 2.58691424e-01 -4.35902533e-01]\n",
            " [ 2.93428589e-02 -3.55251473e-01]\n",
            " [ 2.30951376e-02 -4.21426750e-02]\n",
            " [ 8.34416481e-01  6.38759279e-01]\n",
            " [ 6.87716073e-01  4.87946016e-01]\n",
            " [ 2.80187542e-01 -3.53669083e-01]\n",
            " [ 1.13567391e-01  4.36336538e-01]\n",
            " [ 1.01181811e-01 -8.43799881e-02]\n",
            " [ 4.14851196e-01  7.12620104e-01]\n",
            " [ 6.27760981e-01  7.08147895e-01]\n",
            " [ 4.32973642e-01 -6.68421626e-01]\n",
            " [ 4.98678808e-02  2.36362163e-01]\n",
            " [ 5.29875355e-01  5.46780431e-01]\n",
            " [ 1.17376288e-01  1.98067712e-01]\n",
            " [ 4.49803463e-01  2.35698455e-01]\n",
            " [ 4.50854315e-02 -5.74436635e-01]\n",
            " [ 2.90501693e-02 -6.62389254e-02]\n",
            " [ 2.29140371e-01 -5.20805037e-01]\n",
            " [ 5.40691164e-01  2.10784027e-01]\n",
            " [ 1.50562805e-01 -4.17964733e-01]\n",
            " [ 1.08129360e-01  2.27758800e-01]\n",
            " [ 2.61061367e-01  1.86982819e-02]\n",
            " [ 1.05998006e-01 -5.18948351e-01]\n",
            " [ 4.32705251e-02 -6.66061334e-01]\n",
            " [ 8.59963695e-01  5.59675143e-01]\n",
            " [ 3.29925173e-01  5.36713634e-01]\n",
            " [ 6.99139545e-01 -1.50988466e-01]\n",
            " [ 2.77974311e-01 -3.55600644e-02]\n",
            " [ 1.01856087e-01 -4.62964201e-01]\n",
            " [ 2.63195677e-01  1.93846005e-02]\n",
            " [ 8.66168134e-03 -6.46290401e-01]\n",
            " [ 9.80863108e-01  6.24050405e-01]\n",
            " [ 4.66765549e-01  3.21547649e-01]\n",
            " [ 7.29314389e-01  9.47381412e-01]\n",
            " [ 6.89548787e-01  3.79678549e-01]\n",
            " [ 7.06010129e-01  2.42294376e-01]\n",
            " [ 1.59524641e-01 -6.87008486e-01]\n",
            " [ 4.92230284e-01  1.22813024e-01]\n",
            " [ 4.27091712e-01  2.34207147e-01]\n",
            " [ 2.71771286e-02 -3.14267512e-01]\n",
            " [ 9.29256767e-01  9.85234284e-01]\n",
            " [ 6.56118067e-01  6.43858283e-01]\n",
            " [ 6.67093302e-01  3.07194838e-01]\n",
            " [ 3.35950958e-02 -2.58444715e-01]\n",
            " [ 3.98288516e-01 -1.33828134e-01]\n",
            " [ 6.02449390e-02  1.35358870e-01]\n",
            " [ 4.08136459e-01  3.07194116e-01]\n",
            " [ 8.21494764e-01  4.53455001e-01]\n",
            " [ 1.78113275e-01 -1.57663361e-01]\n",
            " [ 1.87700046e-01 -2.39244521e-01]\n",
            " [ 7.85646928e-01  5.44438387e-01]\n",
            " [ 9.64466766e-01  5.31813681e-01]\n",
            " [ 9.74460090e-02 -3.24205745e-01]\n",
            " [ 4.04088812e-01  1.38784293e-01]\n",
            " [ 6.55432063e-01  1.08982520e-01]\n",
            " [ 6.39440061e-01  1.25717915e-01]\n",
            " [ 4.15725273e-01  2.16950217e-01]\n",
            " [ 8.85147309e-01  3.59804165e-01]\n",
            " [ 3.10123810e-02 -4.20307211e-01]\n",
            " [ 2.10787224e-01 -1.73641711e-01]\n",
            " [ 9.92690030e-01  9.01740283e-01]\n",
            " [ 1.66475511e-01 -1.25069301e-01]\n",
            " [ 3.15690601e-01 -2.46886792e-02]\n",
            " [ 3.68168867e-01  4.34419362e-01]\n",
            " [ 3.05721142e-01 -2.29386599e-01]\n",
            " [ 8.31780672e-01  1.48940118e+00]\n",
            " [ 9.22306514e-01  1.17207112e+00]\n",
            " [ 7.03496071e-01  1.12544815e+00]\n",
            " [ 4.68341465e-01  1.49057795e-01]\n",
            " [ 6.67115688e-01 -2.09606863e-01]\n",
            " [ 9.90573797e-01  1.31607503e+00]\n",
            " [ 9.05871875e-01  5.40204792e-01]\n",
            " [ 2.20814928e-01 -4.24339945e-01]\n",
            " [ 1.59204428e-01  3.74589036e-01]\n",
            " [ 9.78311006e-01  1.35715235e+00]\n",
            " [ 8.38549731e-01  1.03550576e+00]\n",
            " [ 1.05678610e-01  2.22313268e-01]\n",
            " [ 5.23338630e-01  3.53841223e-01]\n",
            " [ 1.41989606e-01 -8.50667665e-01]\n",
            " [ 2.25944027e-01  1.45093464e-01]\n",
            " [ 6.34905602e-01  8.92763019e-01]\n",
            " [ 4.38750691e-01  4.07016317e-01]\n",
            " [ 5.84824820e-01  6.76580731e-01]\n",
            " [ 7.58814211e-01  3.74953959e-01]\n",
            " [ 6.94874057e-01  2.23354306e-01]\n",
            " [ 6.52391155e-01  8.46939467e-01]\n",
            " [ 9.44067836e-01  7.89259034e-01]\n",
            " [ 9.75352903e-01  9.49603120e-01]\n",
            " [ 8.87436590e-01  6.18002242e-01]\n",
            " [ 2.69447098e-01 -3.15847087e-03]\n",
            " [ 7.94279581e-01  3.61209036e-01]\n",
            " [ 8.11103969e-01  4.73202268e-01]\n",
            " [ 9.87108125e-01  5.83850062e-01]\n",
            " [ 6.48402955e-01  3.08203412e-01]\n",
            " [ 8.54179618e-02 -3.12037006e-01]\n",
            " [ 7.75644049e-01  3.80475675e-01]\n",
            " [ 2.88954016e-01 -5.54667046e-02]\n",
            " [ 6.18033934e-01  5.15967227e-01]\n",
            " [ 5.10126177e-01  4.12105743e-02]\n",
            " [ 3.72347812e-02 -3.82475877e-01]\n",
            " [ 5.59647666e-01 -1.67941477e-01]\n",
            " [ 8.81967388e-01 -5.68162982e-01]\n",
            " [ 9.05805836e-01  8.13618755e-01]\n",
            " [ 9.04662272e-01  8.04778058e-01]\n",
            " [ 4.51034872e-01  3.82836219e-01]]\n"
          ]
        }
      ],
      "source": [
        "# Redefining matrix X:\n",
        "X = np.array(bivar_data)\n",
        "print(\"Shape of Matrix X:\", X.shape)\n",
        "print(X)"
      ]
    },
    {
      "cell_type": "code",
      "execution_count": null,
      "id": "regular-cooking",
      "metadata": {
        "id": "regular-cooking"
      },
      "outputs": [],
      "source": [
        "# Defining data centering function:\n",
        "def center(arr):   \n",
        "    '''\n",
        "    This function standardize an array, its substracts mean value, \n",
        "    and then divide the standard deviation.\n",
        "    \n",
        "    param 1: array \n",
        "    return: centered array\n",
        "    '''    \n",
        "    rows, cols = arr.shape   \n",
        "    newArray = np.zeros((rows, cols))\n",
        "    tempArray = np.zeros(rows)\n",
        "    \n",
        "    for c in range(cols):\n",
        "        mean = np.mean(X[:,c])\n",
        "        tempArray = np.array([])\n",
        "        \n",
        "        for e in X[:,c]:\n",
        "            tempArray = np.append(tempArray, (e - mean))\n",
        "            \n",
        "        newArray[:,c] = tempArray\n",
        "    \n",
        "    return newArray"
      ]
    },
    {
      "cell_type": "code",
      "execution_count": null,
      "id": "roman-washington",
      "metadata": {
        "id": "roman-washington",
        "outputId": "df5a366a-9bf7-41c2-a82b-a615fc8eb4b4"
      },
      "outputs": [
        {
          "name": "stdout",
          "output_type": "stream",
          "text": [
            "[[-9.25808927e-02 -8.82936818e-02]\n",
            " [ 6.50437612e-02  1.77901022e-01]\n",
            " [ 1.31431325e-01  2.75439401e-01]\n",
            " [-1.03447679e-01  4.94922493e-02]\n",
            " [ 4.60592937e-01  2.77667928e-01]\n",
            " [-2.55899270e-01  1.07953185e-01]\n",
            " [ 4.51813308e-01  5.99811153e-01]\n",
            " [ 2.77154249e-01  3.68769901e-01]\n",
            " [-2.89896360e-01 -2.38002070e-01]\n",
            " [-1.15490215e-01 -1.12399278e+00]\n",
            " [-1.01056463e-01 -1.10905428e-01]\n",
            " [-4.07995077e-01 -3.32690423e-01]\n",
            " [ 3.39273370e-02 -5.15320903e-01]\n",
            " [-4.45100835e-02  3.56558586e-01]\n",
            " [-1.93331855e-01 -7.29836509e-02]\n",
            " [ 2.75371509e-01  2.23588545e-01]\n",
            " [-2.37635990e-01 -3.93585500e-01]\n",
            " [ 1.51562291e-02 -5.91189996e-01]\n",
            " [ 1.29005124e-01 -2.93760402e-01]\n",
            " [ 1.17583886e-01  8.81230475e-02]\n",
            " [ 3.93304426e-01  3.69618184e-01]\n",
            " [ 5.08230652e-01  8.69520229e-01]\n",
            " [ 4.18322643e-01  3.25874748e-01]\n",
            " [ 7.78685905e-03 -2.43659095e-01]\n",
            " [-2.02968801e-01 -2.35601927e-01]\n",
            " [ 1.35905355e-01 -3.99582282e-01]\n",
            " [-6.54732990e-02  6.01159118e-02]\n",
            " [ 3.33952205e-01  4.72778941e-01]\n",
            " [-3.71750798e-01 -5.54793367e-01]\n",
            " [-2.64591015e-01 -4.92107510e-01]\n",
            " [ 5.63366656e-02  3.91162338e-01]\n",
            " [ 1.30499865e-02  1.69697422e-01]\n",
            " [-4.30801597e-01 -5.06342575e-01]\n",
            " [ 5.82007859e-02  4.76726079e-01]\n",
            " [-4.29817289e-01 -6.43165563e-01]\n",
            " [-1.90716898e-01  3.74340788e-01]\n",
            " [-4.29272983e-01 -5.31602092e-01]\n",
            " [-2.87861419e-01  2.86512625e-02]\n",
            " [-2.25078484e-01 -5.14207528e-02]\n",
            " [ 8.18348060e-02 -4.59832646e-01]\n",
            " [-8.93185086e-02 -8.73945103e-02]\n",
            " [-7.46936547e-02 -6.66242233e-01]\n",
            " [-1.69129485e-01 -4.04254592e-01]\n",
            " [-9.45105903e-02 -4.79205926e-01]\n",
            " [-2.82835260e-01 -5.54428517e-01]\n",
            " [ 4.95372579e-01  5.26415952e-01]\n",
            " [-2.08431435e-01 -1.98857116e-01]\n",
            " [-3.67870167e-01 -5.83437791e-02]\n",
            " [ 1.63959715e-01 -2.54761364e-02]\n",
            " [-8.05063499e-02 -9.96360597e-02]\n",
            " [ 3.45656563e-01  7.57515689e-01]\n",
            " [ 3.44974565e-01  2.22114990e-01]\n",
            " [-3.58619754e-01 -5.33984765e-01]\n",
            " [ 3.99695952e-01  1.71561224e-01]\n",
            " [-3.39612571e-01 -4.49431802e-01]\n",
            " [-2.19886551e-01 -4.05367778e-01]\n",
            " [-7.56698225e-02  1.64391366e-01]\n",
            " [-3.94178362e-01 -9.42984716e-02]\n",
            " [ 2.31164085e-01 -1.26755967e-01]\n",
            " [ 3.09164079e-01  2.78564074e-01]\n",
            " [-3.31414570e-01 -2.84202627e-01]\n",
            " [ 9.75746691e-02 -6.39826697e-02]\n",
            " [-3.53260861e-01 -2.48661477e-01]\n",
            " [ 3.49267792e-01  4.71004340e-01]\n",
            " [ 1.84605592e-01  5.74935751e-02]\n",
            " [ 3.29038598e-01  2.99995060e-01]\n",
            " [-1.73996188e-01  4.60048704e-01]\n",
            " [-3.92871527e-01 -9.16888659e-01]\n",
            " [ 1.22167076e-01  2.06622062e-01]\n",
            " [ 3.87607458e-01  2.48426089e-01]\n",
            " [-5.37540228e-02  2.18170834e-01]\n",
            " [-3.82698238e-01 -4.74776767e-01]\n",
            " [ 2.62103341e-01  1.06521327e-02]\n",
            " [-3.47036981e-01 -4.13741108e-01]\n",
            " [ 5.06143514e-01  6.52222343e-01]\n",
            " [ 3.58615466e-01  7.85194135e-01]\n",
            " [ 1.58855076e-01 -2.48282722e-01]\n",
            " [ 2.29176745e-01  3.88226124e-01]\n",
            " [ 4.94517629e-01  5.59382950e-01]\n",
            " [ 1.68842850e-01  1.51779807e-01]\n",
            " [-4.08421129e-01 -4.29703071e-01]\n",
            " [ 5.08338582e-01  2.08993791e-01]\n",
            " [-2.76828779e-01 -5.70752158e-01]\n",
            " [ 2.39964313e-01  3.92547935e-01]\n",
            " [-5.78136263e-02 -2.81374564e-01]\n",
            " [ 2.67099282e-01  3.35317983e-01]\n",
            " [-4.57729777e-01 -7.83432496e-01]\n",
            " [-4.57258768e-01 -7.06589346e-01]\n",
            " [-7.82985295e-02  2.05455415e-02]\n",
            " [-1.55825466e-01 -4.44133657e-01]\n",
            " [ 1.59970285e-01  4.32520835e-01]\n",
            " [ 4.74115427e-01  7.36499980e-01]\n",
            " [ 4.48751976e-01  9.87068654e-02]\n",
            " [-2.44184298e-01  2.62060893e-02]\n",
            " [-2.08529636e-01  1.15816599e-01]\n",
            " [ 3.84098490e-01  1.47912132e-01]\n",
            " [-2.63047230e-02  5.33100507e-02]\n",
            " [-3.24084971e-01  8.76384056e-02]\n",
            " [-1.48732882e-01  3.69212949e-01]\n",
            " [-1.42048075e-01 -6.56610723e-02]\n",
            " [-1.24837871e-01 -1.95116541e-01]\n",
            " [ 1.29578918e-01  3.86972848e-01]\n",
            " [ 1.61288967e-01  1.59958694e-01]\n",
            " [-2.52922493e-01  1.59165849e-01]\n",
            " [-4.24180089e-01 -3.15197936e-01]\n",
            " [ 5.01651390e-01  8.31819273e-01]\n",
            " [ 6.44006730e-02  6.05699361e-01]\n",
            " [ 2.48914477e-01  3.49975454e-01]\n",
            " [-4.01411370e-01 -3.51471672e-01]\n",
            " [ 4.71941610e-01  8.75608272e-01]\n",
            " [ 6.97435212e-02  4.11988788e-01]\n",
            " [-4.63821383e-01 -7.20301872e-01]\n",
            " [-7.99214031e-02 -7.44491370e-01]\n",
            " [ 2.72324210e-01  1.77681176e-01]\n",
            " [-2.75935286e-01 -2.80317796e-01]\n",
            " [ 4.24256866e-01  1.01078667e+00]\n",
            " [ 4.18167171e-01  4.76095629e-01]\n",
            " [-1.88912386e-01 -2.07260709e-01]\n",
            " [ 6.80364795e-02  3.23195417e-01]\n",
            " [-1.02873361e-01 -2.11908728e-01]\n",
            " [ 1.35734904e-01  5.52889093e-01]\n",
            " [ 1.48113824e-01  3.77429184e-01]\n",
            " [ 1.81196191e-01  5.99834150e-01]\n",
            " [-2.68603115e-01 -6.67226064e-01]\n",
            " [-3.05024637e-01 -3.85136010e-01]\n",
            " [ 2.47148276e-01 -2.28012433e-01]\n",
            " [-1.47603749e-02 -1.54061197e-01]\n",
            " [ 5.03216438e-01  8.85859921e-01]\n",
            " [-1.31011731e-01  2.49609765e-01]\n",
            " [ 3.79586588e-01  5.94323003e-01]\n",
            " [-3.80240641e-01 -7.02790586e-01]\n",
            " [ 2.61560800e-01  3.45432682e-01]\n",
            " [ 1.01750108e-01  1.41742402e-03]\n",
            " [ 4.53213856e-01  2.10036675e-01]\n",
            " [-2.00216062e-01 -8.68466239e-02]\n",
            " [-2.25200934e-01 -1.43983198e-01]\n",
            " [-2.04479705e-01 -4.01443253e-01]\n",
            " [ 2.58485259e-02 -9.64101385e-01]\n",
            " [-8.55254927e-02  1.15175002e-01]\n",
            " [ 4.37830124e-02 -3.47760853e-01]\n",
            " [-3.83873390e-01 -1.94571947e-01]\n",
            " [ 4.99186674e-01  3.26556124e-01]\n",
            " [ 4.03722101e-02  7.35395890e-01]\n",
            " [ 1.58296223e-01 -2.21653566e-01]\n",
            " [ 2.09834751e-01  1.46987460e-01]\n",
            " [ 3.39209869e-01  2.55694374e-01]\n",
            " [ 6.34695106e-02  3.99313104e-01]\n",
            " [-3.76414886e-01 -3.31161928e-01]\n",
            " [-2.04781416e-01 -3.83102051e-01]\n",
            " [ 2.67631095e-01  2.43010518e-01]\n",
            " [ 3.21035570e-01 -1.27170278e-01]\n",
            " [-2.60239128e-01  4.61918804e-01]\n",
            " [-2.92389139e-01 -3.97767754e-02]\n",
            " [-4.48887415e-01 -1.27241474e-01]\n",
            " [-5.17598828e-02 -9.54267955e-02]\n",
            " [ 5.02405179e-01  9.10005764e-01]\n",
            " [ 2.75812179e-01 -1.50646840e-01]\n",
            " [-4.21061127e-01 -3.17958993e-01]\n",
            " [ 7.29702546e-02 -1.48650939e-01]\n",
            " [ 4.13918564e-01  8.98449465e-01]\n",
            " [ 1.56701772e-02 -2.79271980e-01]\n",
            " [ 1.35940495e-01  3.72528968e-01]\n",
            " [ 2.29867032e-01  7.83616623e-01]\n",
            " [-4.56837707e-02 -2.86647714e-01]\n",
            " [-3.40043321e-03 -2.46636768e-02]\n",
            " [-2.32514349e-01 -4.60591105e-01]\n",
            " [-3.56034139e-01 -4.91537907e-01]\n",
            " [ 4.71390159e-01  8.43828259e-01]\n",
            " [ 1.73204315e-01  2.83653132e-01]\n",
            " [-3.83360256e-01 -7.54070856e-01]\n",
            " [-4.60088708e-01 -2.64419938e-01]\n",
            " [ 9.83732066e-02  2.89824577e-02]\n",
            " [-1.62096828e-01 -3.29437198e-01]\n",
            " [-1.71585238e-01 -1.92966730e-01]\n",
            " [-2.16479565e-01 -1.09503888e-01]\n",
            " [-2.86369392e-01  2.64876448e-01]\n",
            " [-3.29634119e-01 -3.32994864e-01]\n",
            " [ 4.31430344e-01  1.06583613e+00]\n",
            " [-2.15754347e-01  3.42265533e-01]\n",
            " [ 2.86039792e-02  1.59512793e-01]\n",
            " [ 1.80835515e-02 -1.33495023e-01]\n",
            " [-1.13425978e-03 -2.90264563e-01]\n",
            " [-3.08548233e-01 -7.96353300e-02]\n",
            " [ 1.66620557e-01  8.28914483e-02]\n",
            " [-4.03549643e-01 -6.13004891e-01]\n",
            " [-4.07745705e-01 -5.46768206e-01]\n",
            " [ 2.22528891e-01 -1.89371151e-01]\n",
            " [ 1.85153297e-01 -3.59318701e-01]\n",
            " [ 4.76945676e-01  3.67554265e-01]\n",
            " [ 1.90132833e-01  1.65773789e-01]\n",
            " [-2.98544562e-02 -6.30548716e-01]\n",
            " [ 4.51643234e-01  2.92128499e-01]\n",
            " [ 9.22381974e-04  2.46701499e-02]\n",
            " [-1.20758468e-02  9.20127534e-02]\n",
            " [-1.64746578e-01  1.34197279e-01]\n",
            " [-2.26308638e-01 -6.64445495e-01]\n",
            " [-4.55657204e-01 -5.83794435e-01]\n",
            " [-4.61904925e-01 -2.70685637e-01]\n",
            " [ 3.49416418e-01  4.10216318e-01]\n",
            " [ 2.02716011e-01  2.59403054e-01]\n",
            " [-2.04812521e-01 -5.82212045e-01]\n",
            " [-3.71432672e-01  2.07793577e-01]\n",
            " [-3.83818252e-01 -3.12922950e-01]\n",
            " [-7.01488666e-02  4.84077142e-01]\n",
            " [ 1.42760919e-01  4.79604933e-01]\n",
            " [-5.20264209e-02 -8.96964587e-01]\n",
            " [-4.35132182e-01  7.81920172e-03]\n",
            " [ 4.48752922e-02  3.18237469e-01]\n",
            " [-3.67623775e-01 -3.04752494e-02]\n",
            " [-3.51965994e-02  7.15549356e-03]\n",
            " [-4.39914631e-01 -8.02979597e-01]\n",
            " [-4.55949893e-01 -2.94781887e-01]\n",
            " [-2.55859691e-01 -7.49347999e-01]\n",
            " [ 5.56911013e-02 -1.77589350e-02]\n",
            " [-3.34437258e-01 -6.46507694e-01]\n",
            " [-3.76870703e-01 -7.84161850e-04]\n",
            " [-2.23938696e-01 -2.09844680e-01]\n",
            " [-3.79002056e-01 -7.47491313e-01]\n",
            " [-4.41729538e-01 -8.94604296e-01]\n",
            " [ 3.74963633e-01  3.31132182e-01]\n",
            " [-1.55074890e-01  3.08170672e-01]\n",
            " [ 2.14139482e-01 -3.79531428e-01]\n",
            " [-2.07025752e-01 -2.64103026e-01]\n",
            " [-3.83143976e-01 -6.91507163e-01]\n",
            " [-2.21804385e-01 -2.09158361e-01]\n",
            " [-4.76338381e-01 -8.74833362e-01]\n",
            " [ 4.95863046e-01  3.95507443e-01]\n",
            " [-1.82345134e-02  9.30046872e-02]\n",
            " [ 2.44314327e-01  7.18838451e-01]\n",
            " [ 2.04548724e-01  1.51135587e-01]\n",
            " [ 2.21010066e-01  1.37514140e-02]\n",
            " [-3.25475422e-01 -9.15551448e-01]\n",
            " [ 7.23022127e-03 -1.05729937e-01]\n",
            " [-5.79083506e-02  5.66418484e-03]\n",
            " [-4.57822934e-01 -5.42810474e-01]\n",
            " [ 4.44256704e-01  7.56691323e-01]\n",
            " [ 1.71118004e-01  4.15315321e-01]\n",
            " [ 1.82093239e-01  7.86518758e-02]\n",
            " [-4.51404967e-01 -4.86987677e-01]\n",
            " [-8.67115463e-02 -3.62371096e-01]\n",
            " [-4.24755124e-01 -9.31840914e-02]\n",
            " [-7.68636033e-02  7.86511539e-02]\n",
            " [ 3.36494701e-01  2.24912039e-01]\n",
            " [-3.06886788e-01 -3.86206323e-01]\n",
            " [-2.97300016e-01 -4.67787482e-01]\n",
            " [ 3.00646865e-01  3.15895425e-01]\n",
            " [ 4.79466704e-01  3.03270720e-01]\n",
            " [-3.87554054e-01 -5.52748707e-01]\n",
            " [-8.09112509e-02 -8.97586687e-02]\n",
            " [ 1.70432001e-01 -1.19560442e-01]\n",
            " [ 1.54439998e-01 -1.02825047e-01]\n",
            " [-6.92747899e-02 -1.15927444e-02]\n",
            " [ 4.00147246e-01  1.31261203e-01]\n",
            " [-4.53987682e-01 -6.48850172e-01]\n",
            " [-2.74212839e-01 -4.02184673e-01]\n",
            " [ 5.07689967e-01  6.73197321e-01]\n",
            " [-3.18524552e-01 -3.53612262e-01]\n",
            " [-1.69309462e-01 -2.53231641e-01]\n",
            " [-1.16831196e-01  2.05876400e-01]\n",
            " [-1.79278921e-01 -4.57929561e-01]\n",
            " [ 3.46780610e-01  1.26085822e+00]\n",
            " [ 4.37306451e-01  9.43528161e-01]\n",
            " [ 2.18496008e-01  8.96905191e-01]\n",
            " [-1.66585978e-02 -7.94851668e-02]\n",
            " [ 1.82115626e-01 -4.38149825e-01]\n",
            " [ 5.05573735e-01  1.08753207e+00]\n",
            " [ 4.20871813e-01  3.11661830e-01]\n",
            " [-2.64185135e-01 -6.52882906e-01]\n",
            " [-3.25795635e-01  1.46046074e-01]\n",
            " [ 4.93310943e-01  1.12860939e+00]\n",
            " [ 3.53549669e-01  8.06962797e-01]\n",
            " [-3.79321453e-01 -6.22969388e-03]\n",
            " [ 3.83385671e-02  1.25298261e-01]\n",
            " [-3.43010457e-01 -1.07921063e+00]\n",
            " [-2.59056036e-01 -8.34494975e-02]\n",
            " [ 1.49905540e-01  6.64220057e-01]\n",
            " [-4.62493713e-02  1.78473355e-01]\n",
            " [ 9.98247578e-02  4.48037769e-01]\n",
            " [ 2.73814149e-01  1.46410997e-01]\n",
            " [ 2.09873995e-01 -5.18865614e-03]\n",
            " [ 1.67391093e-01  6.18396505e-01]\n",
            " [ 4.59067773e-01  5.60716072e-01]\n",
            " [ 4.90352841e-01  7.21060159e-01]\n",
            " [ 4.02436527e-01  3.89459280e-01]\n",
            " [-2.15552965e-01 -2.31701433e-01]\n",
            " [ 3.09279519e-01  1.32666074e-01]\n",
            " [ 3.26103906e-01  2.44659307e-01]\n",
            " [ 5.02108063e-01  3.55307100e-01]\n",
            " [ 1.63402893e-01  7.96604506e-02]\n",
            " [-3.99582101e-01 -5.40579968e-01]\n",
            " [ 2.90643986e-01  1.51932713e-01]\n",
            " [-1.96046047e-01 -2.84009666e-01]\n",
            " [ 1.33033871e-01  2.87424266e-01]\n",
            " [ 2.51261145e-02 -1.87332387e-01]\n",
            " [-4.47765281e-01 -6.11018839e-01]\n",
            " [ 7.46476036e-02 -3.96484439e-01]\n",
            " [ 3.96967325e-01 -7.96705943e-01]\n",
            " [ 4.20805773e-01  5.85075793e-01]\n",
            " [ 4.19662209e-01  5.76235097e-01]\n",
            " [-3.39651906e-02  1.54293257e-01]]\n"
          ]
        }
      ],
      "source": [
        "# Centering X:\n",
        "X_cen = center(X)\n",
        "print(X_cen)"
      ]
    },
    {
      "cell_type": "code",
      "execution_count": null,
      "id": "detected-marijuana",
      "metadata": {
        "id": "detected-marijuana",
        "outputId": "16b1c664-33ea-449e-808d-f0e67329c926"
      },
      "outputs": [
        {
          "data": {
            "image/png": "[encoded data removed]",
            "text/plain": [
              "<Figure size 432x288 with 1 Axes>"
            ]
          },
          "metadata": {
            "needs_background": "light"
          },
          "output_type": "display_data"
        }
      ],
      "source": [
        "# Plotting Centered Data:\n",
        "plt.scatter(X_cen[:, 0], X_cen[:, 1])\n",
        "plt.title(\"Centered Bivariate Dataset\")\n",
        "plt.xlabel(\"Input\")\n",
        "plt.ylabel(\"Output\")\n",
        "plt.grid()\n",
        "plt.show()"
      ]
    },
    {
      "cell_type": "code",
      "execution_count": null,
      "id": "close-retrieval",
      "metadata": {
        "id": "close-retrieval"
      },
      "outputs": [],
      "source": [
        "# Applying PCA:"
      ]
    },
    {
      "cell_type": "code",
      "execution_count": null,
      "id": "aerial-offer",
      "metadata": {
        "id": "aerial-offer",
        "outputId": "19107d04-27b1-45e3-e9b4-06fbfcd5c6a8"
      },
      "outputs": [
        {
          "name": "stdout",
          "output_type": "stream",
          "text": [
            "Shape of Data Matrix X_cen: (300, 2)\n",
            "Shape of U: (300, 300)\n",
            "Shape of Singular Values Array: (2,)\n",
            "Shape of V*: (2, 2)\n"
          ]
        }
      ],
      "source": [
        "# SVD:\n",
        "u, s, vh = nl.svd(X_cen, full_matrices=True)\n",
        "print(\"Shape of Data Matrix X_cen:\", X_cen.shape)\n",
        "print(\"Shape of U:\", u.shape)\n",
        "print(\"Shape of Singular Values Array:\", s.shape)\n",
        "print(\"Shape of V*:\", vh.shape)"
      ]
    },
    {
      "cell_type": "code",
      "execution_count": null,
      "id": "neural-intersection",
      "metadata": {
        "id": "neural-intersection",
        "outputId": "8bd488c9-3628-4506-da99-464410bf364b"
      },
      "outputs": [
        {
          "name": "stdout",
          "output_type": "stream",
          "text": [
            "Shape of Diagonal Matrix: (300, 2) \n",
            "\n"
          ]
        }
      ],
      "source": [
        "# Creating the Rectangular Diagonal Matrix Using Singular Values:\n",
        "zeros = np.zeros((X_cen.shape[0], X_cen.shape[1]))\n",
        "for i in range(s.shape[0]):\n",
        "    zeros[i, i] = s[i]\n",
        "\n",
        "D = zeros\n",
        "print(\"Shape of Diagonal Matrix:\", D.shape, \"\\n\")\n",
        "# print(D)"
      ]
    },
    {
      "cell_type": "code",
      "execution_count": null,
      "id": "french-provision",
      "metadata": {
        "id": "french-provision",
        "outputId": "fe3c0305-ff28-4cf6-fbba-719c36bb4ef3"
      },
      "outputs": [
        {
          "name": "stdout",
          "output_type": "stream",
          "text": [
            "Shape of Matrix C: (300, 2)\n"
          ]
        }
      ],
      "source": [
        "# Computing C:\n",
        "C = u@D\n",
        "print(\"Shape of Matrix C:\", C.shape)\n",
        "# print(C)"
      ]
    },
    {
      "cell_type": "code",
      "execution_count": null,
      "id": "horizontal-speaking",
      "metadata": {
        "id": "horizontal-speaking",
        "outputId": "3d4d3bbe-145a-4a3b-985c-0901698def9a"
      },
      "outputs": [
        {
          "name": "stdout",
          "output_type": "stream",
          "text": [
            "Shape of First Principle Component: (300,)\n"
          ]
        }
      ],
      "source": [
        "# Obtaining First Principle Component:\n",
        "C_1 = C[:, 0]\n",
        "print(\"Shape of First Principle Component:\", C_1.shape)"
      ]
    },
    {
      "cell_type": "code",
      "execution_count": null,
      "id": "nonprofit-failing",
      "metadata": {
        "id": "nonprofit-failing",
        "outputId": "e40bd203-b84c-45e9-e29f-bb76c23a2c30"
      },
      "outputs": [
        {
          "data": {
            "image/png": "[encoded data removed]",
            "text/plain": [
              "<Figure size 432x288 with 1 Axes>"
            ]
          },
          "metadata": {
            "needs_background": "light"
          },
          "output_type": "display_data"
        }
      ],
      "source": [
        "# Scatter Plot:\n",
        "plt.scatter(C[:, 0], C[:, 1])\n",
        "\n",
        "plt.title(\"PCA-SVD | Bivariate Dataset\")\n",
        "plt.xlabel(\"Principle Component 1\")\n",
        "plt.ylabel(\"Principle Component 2\")\n",
        "plt.grid()\n",
        "plt.show()"
      ]
    },
    {
      "cell_type": "code",
      "execution_count": null,
      "id": "latter-lobby",
      "metadata": {
        "id": "latter-lobby",
        "outputId": "b721fd92-f013-49b5-b611-61e4642f6088"
      },
      "outputs": [
        {
          "data": {
            "text/plain": [
              "PCA(n_components=2)"
            ]
          },
          "execution_count": 65,
          "metadata": {},
          "output_type": "execute_result"
        }
      ],
      "source": [
        "# Using sklearn for visualizing PCA solution for data:\n",
        "from sklearn.decomposition import PCA\n",
        "pca = PCA(n_components=2)\n",
        "pca.fit(X)"
      ]
    },
    {
      "cell_type": "code",
      "execution_count": null,
      "id": "hundred-nitrogen",
      "metadata": {
        "id": "hundred-nitrogen",
        "outputId": "2da584ae-0b17-478c-c87e-cfdf7d6e599f"
      },
      "outputs": [
        {
          "data": {
            "text/plain": [
              "PCA(n_components=array([-0.1502575 , -0.22888714, -0.28511172, -0.31342757, -0.31106295,\n",
              "       -0.27824932, -0.21819871, -0.13678929, -0.04198998,  0.0569196 ,\n",
              "        0.1502575 ,  0.22888714,  0.28511172,  0.31342757,  0.31106295,\n",
              "        0.27824932,  0.21819871,  0.13678929,  0.04198998, -0.0569196 ]))"
            ]
          },
          "execution_count": 66,
          "metadata": {},
          "output_type": "execute_result"
        }
      ],
      "source": [
        "PCA(x)"
      ]
    },
    {
      "cell_type": "code",
      "execution_count": null,
      "id": "loose-hypothesis",
      "metadata": {
        "id": "loose-hypothesis",
        "outputId": "caf0e96b-7342-4c08-bfc2-837871cffb38"
      },
      "outputs": [
        {
          "name": "stdout",
          "output_type": "stream",
          "text": [
            "[[ 0.48349886  0.87534499]\n",
            " [ 0.87534499 -0.48349886]]\n"
          ]
        }
      ],
      "source": [
        "print(pca.components_)"
      ]
    },
    {
      "cell_type": "code",
      "execution_count": null,
      "id": "broke-burns",
      "metadata": {
        "id": "broke-burns",
        "outputId": "0f845776-ed56-4e49-ab38-e999ced9966a"
      },
      "outputs": [
        {
          "name": "stdout",
          "output_type": "stream",
          "text": [
            "[0.26052685 0.03382011]\n"
          ]
        }
      ],
      "source": [
        "print(pca.explained_variance_)"
      ]
    },
    {
      "cell_type": "code",
      "execution_count": null,
      "id": "planned-maintenance",
      "metadata": {
        "id": "planned-maintenance",
        "outputId": "07d5b605-310c-44ef-d7aa-06e331cf076a"
      },
      "outputs": [
        {
          "data": {
            "image/png": "[encoded data removed]",
            "text/plain": [
              "<Figure size 432x288 with 1 Axes>"
            ]
          },
          "metadata": {
            "needs_background": "light"
          },
          "output_type": "display_data"
        }
      ],
      "source": [
        "def draw_vector(v0, v1, ax=None):\n",
        "    ax = ax or plt.gca()\n",
        "    arrowprops=dict(arrowstyle='->',\n",
        "                    color = 'darkcyan',\n",
        "                    shrinkA=0, shrinkB=0,\n",
        "                    label=\"PCA\")\n",
        "    ax.annotate('', v1, v0, arrowprops=arrowprops)\n",
        "    ax.legend\n",
        "# plot data\n",
        "plt.scatter(input, output, color = 'lightgrey')\n",
        "for length, vector in zip(pca.explained_variance_, pca.components_):\n",
        "    v = vector * 3 * np.sqrt(length)\n",
        "    draw_vector(pca.mean_, pca.mean_ + v)\n",
        "\n",
        "    \n",
        "plt.axis('equal');"
      ]
    },
    {
      "cell_type": "code",
      "execution_count": null,
      "id": "confirmed-idaho",
      "metadata": {
        "id": "confirmed-idaho",
        "outputId": "9a45bf5b-0ccf-48ae-d3cf-d079a3ae1cdb"
      },
      "outputs": [
        {
          "data": {
            "text/plain": [
              "array([0.26052685, 0.03382011])"
            ]
          },
          "execution_count": 70,
          "metadata": {},
          "output_type": "execute_result"
        }
      ],
      "source": [
        "pca.explained_variance_"
      ]
    },
    {
      "cell_type": "markdown",
      "id": "published-assumption",
      "metadata": {
        "id": "published-assumption"
      },
      "source": [
        "## Part (d):"
      ]
    },
    {
      "cell_type": "code",
      "execution_count": null,
      "id": "further-deviation",
      "metadata": {
        "id": "further-deviation"
      },
      "outputs": [],
      "source": [
        "from scipy import odr\n",
        "\n",
        "def f(B, x):\n",
        "    return B[0]*x + B[1]\n",
        "\n",
        "linear_model = odr.Model(f)\n",
        "data = odr.Data(x=input, y=output, wd=4) \n",
        "\n",
        "odreg = odr.ODR(data, linear_model, beta0 =[0., 0.])\n",
        "Output = odreg.run()\n",
        "slope, intercept = Output.beta"
      ]
    },
    {
      "cell_type": "code",
      "execution_count": null,
      "id": "composed-gender",
      "metadata": {
        "id": "composed-gender"
      },
      "outputs": [],
      "source": [
        "wd = [1, 2, 10, 100]\n",
        "B = []\n",
        "for i in wd:\n",
        "    data = odr.Data(x=input, y=output, wd=i) \n",
        "    odreg = odr.ODR(data, linear_model, beta0 =[0., 0.])\n",
        "    Output = odreg.run()\n",
        "    slope, intercept = Output.beta\n",
        "    b = [slope, intercept]\n",
        "    B.append(b)"
      ]
    },
    {
      "cell_type": "code",
      "execution_count": null,
      "id": "outside-wesley",
      "metadata": {
        "id": "outside-wesley",
        "outputId": "66fd1d50-1452-4eaf-d89b-76da7a2e037f"
      },
      "outputs": [
        {
          "data": {
            "image/png": "[encoded data removed]",
            "text/plain": [
              "<Figure size 432x288 with 1 Axes>"
            ]
          },
          "metadata": {
            "needs_background": "light"
          },
          "output_type": "display_data"
        }
      ],
      "source": [
        "# Plotting:\n",
        "plt.scatter(input, output, color = 'lightgrey')\n",
        "\n",
        "c = 0\n",
        "\n",
        "for i in B:\n",
        "    plt.plot(input, f(i, input), label=\"ODR | wd = {}\".format(wd[c]))\n",
        "    c += 1\n",
        "\n",
        "plt.plot(X_ols, y, label = \"OLS\", color=\"k\")\n",
        "\n",
        "plt.title(\"ODR and OLS Solutions - Bivariate Dataset\")\n",
        "plt.xlabel(\"Input\")\n",
        "plt.ylabel(\"Output\")\n",
        "plt.legend()\n",
        "plt.grid()\n",
        "plt.show()"
      ]
    },
    {
      "cell_type": "code",
      "execution_count": null,
      "id": "approximate-sandwich",
      "metadata": {
        "id": "approximate-sandwich",
        "outputId": "e1908b8c-0cbf-43dc-dcca-40ca09b158c1"
      },
      "outputs": [
        {
          "data": {
            "image/png": "[encoded data removed]",
            "text/plain": [
              "<Figure size 432x288 with 1 Axes>"
            ]
          },
          "metadata": {
            "needs_background": "light"
          },
          "output_type": "display_data"
        }
      ],
      "source": [
        "# Plotting:\n",
        "plt.scatter(input, output, color = 'lightgrey')\n",
        "\n",
        "c = 0\n",
        "\n",
        "for i in B:\n",
        "    plt.plot(input, f(i, input), label=\"ODR | wd = {}\".format(wd[c]))\n",
        "    c += 1\n",
        "\n",
        "plt.plot(X_ols, y, label = \"OLS\", color=\"k\")\n",
        "\n",
        "\n",
        "for length, vector in zip(pca.explained_variance_, pca.components_):\n",
        "    v = vector * 3 * np.sqrt(length)\n",
        "    draw_vector(pca.mean_, pca.mean_ + v)\n",
        "plt.axis('equal');\n",
        "\n",
        "plt.title(\"ODR and OLS Solutions - Bivariate Dataset\")\n",
        "plt.xlabel(\"Input\")\n",
        "plt.ylabel(\"Output\")\n",
        "plt.legend(loc='upper left')\n",
        "plt.grid()\n",
        "plt.show()"
      ]
    },
    {
      "cell_type": "markdown",
      "id": "harmful-possibility",
      "metadata": {
        "id": "harmful-possibility"
      },
      "source": [
        "## Part (e):"
      ]
    },
    {
      "cell_type": "markdown",
      "id": "unsigned-museum",
      "metadata": {
        "id": "unsigned-museum"
      },
      "source": [
        "The ODR solution closest to the OLS solution is the one with the greatest weight coefficient (namely, wd=100). The ODR solution closest to the PCA solution is the one with the least weight coefficient (namely, wd=1).  "
      ]
    },
    {
      "cell_type": "markdown",
      "id": "logical-strength",
      "metadata": {
        "id": "logical-strength"
      },
      "source": [
        "The ordinary least square (OLS) estimate of $\\mathrm{Y}$ on $\\mathrm{X}$ will minimize the squared vertical distance from the points to the regression line. The OLS estimate represents the case when weight coeffiecient=$\\infty$ in the ODR. \n",
        "\n",
        "As errors get larger, ODR will outperform OLS, and get closer to the PCA solution, which aims for the least (Euclidean) distance or\n",
        "error between the original points and the projected points."
      ]
    }
  ],
  "metadata": {
    "kernelspec": {
      "display_name": "Python 3",
      "language": "python",
      "name": "python3"
    },
    "language_info": {
      "codemirror_mode": {
        "name": "ipython",
        "version": 3
      },
      "file_extension": ".py",
      "mimetype": "text/x-python",
      "name": "python",
      "nbconvert_exporter": "python",
      "pygments_lexer": "ipython3",
      "version": "3.8.3"
    },
    "toc": {
      "base_numbering": 1,
      "nav_menu": {},
      "number_sections": true,
      "sideBar": true,
      "skip_h1_title": false,
      "title_cell": "Table of Contents",
      "title_sidebar": "Contents",
      "toc_cell": false,
      "toc_position": {},
      "toc_section_display": true,
      "toc_window_display": true
    },
    "colab": {
      "provenance": []
    }
  },
  "nbformat": 4,
  "nbformat_minor": 5
}