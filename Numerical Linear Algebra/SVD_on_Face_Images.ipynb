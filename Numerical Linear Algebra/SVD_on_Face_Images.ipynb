{
  "cells": [
    {
      "cell_type": "markdown",
      "id": "intensive-princeton",
      "metadata": {
        "id": "intensive-princeton"
      },
      "source": [
        "# SVD on Face Images"
      ]
    },
    {
      "cell_type": "markdown",
      "id": "overhead-supplement",
      "metadata": {
        "id": "overhead-supplement"
      },
      "source": [
        "## Part (a):"
      ]
    },
    {
      "cell_type": "code",
      "execution_count": null,
      "id": "neutral-market",
      "metadata": {
        "id": "neutral-market",
        "outputId": "8ffb4f84-9c2d-4fd7-b316-6be726cd560c"
      },
      "outputs": [
        {
          "data": {
            "image/png": "[encoded data removed]",
            "text/plain": [
              "<Figure size 432x288 with 1 Axes>"
            ]
          },
          "metadata": {
            "needs_background": "light"
          },
          "output_type": "display_data"
        }
      ],
      "source": [
        "import matplotlib.pyplot as plt\n",
        "from sklearn import datasets\n",
        "faces = datasets.fetch_olivetti_faces()\n",
        "A_1 = faces[\"images\"][0][:63, :63]\n",
        "A_2 = faces[\"images\"][110][:63, :63]\n",
        "A_3 = faces[\"images\"][365][:63, :63]\n",
        "plt.imshow(A_1, cmap=\"gray\");"
      ]
    },
    {
      "cell_type": "markdown",
      "id": "seeing-stanley",
      "metadata": {
        "id": "seeing-stanley"
      },
      "source": [
        "## Part (b):"
      ]
    },
    {
      "cell_type": "code",
      "execution_count": null,
      "id": "fluid-nancy",
      "metadata": {
        "id": "fluid-nancy"
      },
      "outputs": [],
      "source": [
        "# The following functions are inspired by functions online:\n",
        "def blockshaped(arr, nrows, ncols):\n",
        "    \"\"\"\n",
        "    If arr is a 2D array, the returned array should look like n subblocks with\n",
        "    each subblock preserving the \"physical\" layout of arr.\n",
        "    \"\"\"\n",
        "    h, w = arr.shape\n",
        "    assert h % nrows == 0, \"{} rows is not evenly divisble by {}\".format(h, nrows)\n",
        "    assert w % ncols == 0, \"{} cols is not evenly divisble by {}\".format(w, ncols)\n",
        "    return (arr.reshape(h//nrows, nrows, -1, ncols)\n",
        "               .swapaxes(1,2)\n",
        "               .reshape(-1, nrows, ncols))\n",
        "\n",
        "\n",
        "def unblockshaped(arr, h, w):\n",
        "    \"\"\"\n",
        "    Return an array of shape (h, w) where\n",
        "    h * w = arr.size\n",
        "\n",
        "    If arr is of shape (n, nrows, ncols), n sublocks of shape (nrows, ncols),\n",
        "    then the returned array preserves the \"physical\" layout of the sublocks.\n",
        "    \"\"\"\n",
        "    n, nrows, ncols = arr.shape\n",
        "    return (arr.reshape(h//nrows, -1, nrows, ncols)\n",
        "               .swapaxes(1,2)\n",
        "               .reshape(h, w))"
      ]
    },
    {
      "cell_type": "code",
      "execution_count": null,
      "id": "useful-burden",
      "metadata": {
        "id": "useful-burden"
      },
      "outputs": [],
      "source": [
        "A1_patches = blockshaped(A_1, 7, 7)\n",
        "A2_patches = blockshaped(A_2, 7, 7)\n",
        "A3_patches = blockshaped(A_3, 7, 7)"
      ]
    },
    {
      "cell_type": "code",
      "execution_count": null,
      "id": "boolean-watson",
      "metadata": {
        "id": "boolean-watson",
        "outputId": "f8dba773-9041-41e6-fec7-c43e22fd4388"
      },
      "outputs": [
        {
          "name": "stdout",
          "output_type": "stream",
          "text": [
            "(81, 7, 7)\n"
          ]
        },
        {
          "data": {
            "text/plain": [
              "array([[0.30991736, 0.3677686 , 0.41735536, 0.44214877, 0.5289256 ,\n",
              "        0.607438  , 0.6570248 ],\n",
              "       [0.3429752 , 0.40495867, 0.43801653, 0.47107437, 0.553719  ,\n",
              "        0.62396693, 0.6694215 ],\n",
              "       [0.3429752 , 0.41735536, 0.45041323, 0.5123967 , 0.57438016,\n",
              "        0.6446281 , 0.677686  ],\n",
              "       [0.30578512, 0.4090909 , 0.47107437, 0.5247934 , 0.59504133,\n",
              "        0.6528926 , 0.6735537 ],\n",
              "       [0.33471075, 0.4214876 , 0.4752066 , 0.58264464, 0.6404959 ,\n",
              "        0.6652893 , 0.6652893 ],\n",
              "       [0.3140496 , 0.39256197, 0.4752066 , 0.61157024, 0.6528926 ,\n",
              "        0.6528926 , 0.6652893 ],\n",
              "       [0.30991736, 0.37603307, 0.53305787, 0.6528926 , 0.6570248 ,\n",
              "        0.6446281 , 0.6528926 ]], dtype=float32)"
            ]
          },
          "execution_count": 855,
          "metadata": {},
          "output_type": "execute_result"
        }
      ],
      "source": [
        "print(A1_patches.shape)\n",
        "A1_patches[0] # 7×7"
      ]
    },
    {
      "cell_type": "code",
      "execution_count": null,
      "id": "welcome-satisfaction",
      "metadata": {
        "id": "welcome-satisfaction"
      },
      "outputs": [],
      "source": [
        "# Flattening and Stacking:\n",
        "B1 = A1_patches.flatten().reshape(81, 49)\n",
        "B2 = A2_patches.flatten().reshape(81, 49)\n",
        "B3 = A3_patches.flatten().reshape(81, 49)"
      ]
    },
    {
      "cell_type": "code",
      "execution_count": null,
      "id": "precise-drinking",
      "metadata": {
        "id": "precise-drinking",
        "outputId": "b167834a-b9e5-4bb4-efbe-e35e7809dbfb"
      },
      "outputs": [
        {
          "name": "stdout",
          "output_type": "stream",
          "text": [
            "(81, 49)\n"
          ]
        },
        {
          "data": {
            "text/plain": [
              "array([[0.30991736, 0.3677686 , 0.41735536, ..., 0.6570248 , 0.6446281 ,\n",
              "        0.6528926 ],\n",
              "       [0.677686  , 0.69008267, 0.6859504 , ..., 0.6859504 , 0.6942149 ,\n",
              "        0.6942149 ],\n",
              "       [0.69008267, 0.6942149 , 0.69008267, ..., 0.71487606, 0.71487606,\n",
              "        0.71900827],\n",
              "       ...,\n",
              "       [0.73140496, 0.74793386, 0.72727275, ..., 0.58677685, 0.56198347,\n",
              "        0.5495868 ],\n",
              "       [0.6652893 , 0.6487603 , 0.6280992 , ..., 0.6322314 , 0.6446281 ,\n",
              "        0.6652893 ],\n",
              "       [0.58264464, 0.59917355, 0.5206612 , ..., 0.15289256, 0.14876033,\n",
              "        0.16115703]], dtype=float32)"
            ]
          },
          "execution_count": 859,
          "metadata": {},
          "output_type": "execute_result"
        }
      ],
      "source": [
        "print(B1.shape)\n",
        "B1"
      ]
    },
    {
      "cell_type": "code",
      "execution_count": null,
      "id": "proud-benefit",
      "metadata": {
        "id": "proud-benefit",
        "outputId": "c06defee-abe4-4cc8-a6f0-8548d6fa51be"
      },
      "outputs": [
        {
          "name": "stdout",
          "output_type": "stream",
          "text": [
            "[[0.30991736 0.3677686  0.41735536 0.44214877 0.5289256  0.607438\n",
            "  0.6570248 ]\n",
            " [0.3429752  0.40495867 0.43801653 0.47107437 0.553719   0.62396693\n",
            "  0.6694215 ]\n",
            " [0.3429752  0.41735536 0.45041323 0.5123967  0.57438016 0.6446281\n",
            "  0.677686  ]\n",
            " [0.30578512 0.4090909  0.47107437 0.5247934  0.59504133 0.6528926\n",
            "  0.6735537 ]\n",
            " [0.33471075 0.4214876  0.4752066  0.58264464 0.6404959  0.6652893\n",
            "  0.6652893 ]\n",
            " [0.3140496  0.39256197 0.4752066  0.61157024 0.6528926  0.6528926\n",
            "  0.6652893 ]\n",
            " [0.30991736 0.37603307 0.53305787 0.6528926  0.6570248  0.6446281\n",
            "  0.6528926 ]]\n"
          ]
        }
      ],
      "source": [
        "y = B1[0,:].reshape(7, 7)\n",
        "x = np.array([])\n",
        "x = np.append(x, y)\n",
        "print(y)"
      ]
    },
    {
      "cell_type": "markdown",
      "id": "close-respect",
      "metadata": {
        "id": "close-respect"
      },
      "source": [
        "## Hint 2:"
      ]
    },
    {
      "cell_type": "code",
      "execution_count": null,
      "id": "third-acquisition",
      "metadata": {
        "id": "third-acquisition",
        "outputId": "788fdaaf-5664-4fc2-d951-31561cd3c680"
      },
      "outputs": [
        {
          "name": "stdout",
          "output_type": "stream",
          "text": [
            "(81, 7, 7)\n"
          ]
        },
        {
          "data": {
            "text/plain": [
              "(63, 63)"
            ]
          },
          "execution_count": 928,
          "metadata": {},
          "output_type": "execute_result"
        }
      ],
      "source": [
        "# Draft:\n",
        "output = []\n",
        "for i in range(B1.shape[0]):\n",
        "    x = B1[i,:].reshape(7, 7)\n",
        "    output.append(x)\n",
        "    \n",
        "output = np.array(output)\n",
        "print(output.shape)\n",
        "unblockshaped(output,63, 63).shape"
      ]
    },
    {
      "cell_type": "code",
      "execution_count": null,
      "id": "dimensional-guatemala",
      "metadata": {
        "id": "dimensional-guatemala"
      },
      "outputs": [],
      "source": [
        "def create_patches(arr):\n",
        "    patches = blockshaped(arr, 7, 7).flatten().reshape(81, 49)\n",
        "    return patches"
      ]
    },
    {
      "cell_type": "code",
      "execution_count": null,
      "id": "proud-prize",
      "metadata": {
        "id": "proud-prize"
      },
      "outputs": [],
      "source": [
        "def create_face(arr):\n",
        "    output = []\n",
        "    for i in range(patches.shape[0]):\n",
        "        x = arr[i,:].flatten().reshape(7, 7)\n",
        "        output.append(x)\n",
        "    output = np.array(output)\n",
        "    \n",
        "    reshaped_patches=unblockshaped(output, 63, 63)\n",
        "    return reshaped_patches"
      ]
    },
    {
      "cell_type": "code",
      "execution_count": null,
      "id": "offshore-saying",
      "metadata": {
        "id": "offshore-saying",
        "outputId": "aac77927-47a6-4f39-bf8e-7c317da91340"
      },
      "outputs": [
        {
          "data": {
            "image/png": "[encoded data removed]",
            "text/plain": [
              "<Figure size 432x288 with 1 Axes>"
            ]
          },
          "metadata": {
            "needs_background": "light"
          },
          "output_type": "display_data"
        },
        {
          "data": {
            "image/png": "[encoded data removed]",
            "text/plain": [
              "<Figure size 432x288 with 1 Axes>"
            ]
          },
          "metadata": {
            "needs_background": "light"
          },
          "output_type": "display_data"
        },
        {
          "data": {
            "image/png": "[encoded data removed]",
            "text/plain": [
              "<Figure size 432x288 with 1 Axes>"
            ]
          },
          "metadata": {
            "needs_background": "light"
          },
          "output_type": "display_data"
        }
      ],
      "source": [
        "plt.imshow(A_1, cmap=\"gray\");\n",
        "plt.figure()\n",
        "plt.imshow(create_patches(A_1), cmap=\"gray\");\n",
        "plt.figure()\n",
        "plt.imshow(create_face(create_patches(A_1)), cmap=\"gray\");"
      ]
    },
    {
      "cell_type": "markdown",
      "id": "saving-minnesota",
      "metadata": {
        "id": "saving-minnesota"
      },
      "source": [
        "## Part (c):"
      ]
    },
    {
      "cell_type": "code",
      "execution_count": null,
      "id": "productive-modeling",
      "metadata": {
        "id": "productive-modeling",
        "outputId": "8c499b93-5121-4bda-b39c-40f97b4e9d3c"
      },
      "outputs": [
        {
          "data": {
            "text/plain": [
              "((81, 49), (49,), (49, 49))"
            ]
          },
          "execution_count": 715,
          "metadata": {},
          "output_type": "execute_result"
        }
      ],
      "source": [
        "# SVD on B1:\n",
        "U, S, VT = np.linalg.svd(B1, full_matrices=False)\n",
        "U.shape, S.shape, VT.shape"
      ]
    },
    {
      "cell_type": "code",
      "execution_count": null,
      "id": "documented-client",
      "metadata": {
        "id": "documented-client",
        "outputId": "a30e06ac-fdd8-4724-fb86-c269c676f02b"
      },
      "outputs": [
        {
          "name": "stdout",
          "output_type": "stream",
          "text": [
            "[41.163345    3.8393824   1.9943997   1.3196774   1.183775    0.97274166\n",
            "  0.8572861   0.712525    0.6731111   0.61996824]\n"
          ]
        }
      ],
      "source": [
        "# Printing the first 10 singular values:\n",
        "print(S[:10])"
      ]
    },
    {
      "cell_type": "markdown",
      "id": "french-rugby",
      "metadata": {
        "id": "french-rugby"
      },
      "source": [
        "## Part (d):"
      ]
    },
    {
      "cell_type": "markdown",
      "id": "express-battery",
      "metadata": {
        "id": "express-battery"
      },
      "source": [
        "$V_{1}$ is a matrix whose columns are the right singular vectors in the SVD decomposition of $B_1$.\n",
        "\n",
        "The left singular vectors (erpresented by $U_{1}$) of $B_1$ are eigenvectors of $B_{1}B_{1}^T$and the right singular vectors **(represented by $V_{1}$)** of $B_1$ are eigenvectors of $B_{1}^TB_{1}$. Each singular value specifies the luminance of an image layer while the corresponding pair of\n",
        "singular vectors (U and **V**) specifies the <u>geometry of the image</u>. U and **V** are unitary orthogonal matrices (the sum of squares of\n",
        "each column is unity and all the columns are uncorrelated) and\n",
        "S is a diagonal matrix (only the leading diagonal has non-zero\n",
        "values) of decreasing singular values. "
      ]
    },
    {
      "cell_type": "code",
      "execution_count": null,
      "id": "palestinian-lafayette",
      "metadata": {
        "id": "palestinian-lafayette",
        "outputId": "22b1a5ef-7b20-4aac-cf76-38a47509d8c3"
      },
      "outputs": [
        {
          "data": {
            "text/plain": [
              "(49, 3)"
            ]
          },
          "execution_count": 977,
          "metadata": {},
          "output_type": "execute_result"
        }
      ],
      "source": [
        "x = VT.T[:, 0:3]\n",
        "x.shape"
      ]
    },
    {
      "cell_type": "code",
      "execution_count": null,
      "id": "scientific-jersey",
      "metadata": {
        "scrolled": true,
        "id": "scientific-jersey",
        "outputId": "2b289a41-86ce-431e-c259-351ef2eeadc4"
      },
      "outputs": [
        {
          "data": {
            "image/png": "[encoded data removed]",
            "text/plain": [
              "<Figure size 432x288 with 1 Axes>"
            ]
          },
          "metadata": {
            "needs_background": "light"
          },
          "output_type": "display_data"
        }
      ],
      "source": [
        "# Image of the transpose of the array:\n",
        "plt.imshow(VT.T[:, 0:3].T)\n",
        "plt.show()"
      ]
    },
    {
      "cell_type": "markdown",
      "id": "liked-withdrawal",
      "metadata": {
        "id": "liked-withdrawal"
      },
      "source": [
        "## Part (e):"
      ]
    },
    {
      "cell_type": "code",
      "execution_count": null,
      "id": "hydraulic-alias",
      "metadata": {
        "id": "hydraulic-alias"
      },
      "outputs": [],
      "source": [
        "s = np.zeros((k, k))\n",
        "np.fill_diagonal(s, S[:k])\n",
        "\n",
        "for k in [1, 5, 10, 20]:\n",
        "    print(s)\n",
        "    print()\n",
        "    mat_approx = U[:, :k] @ s @ VT[:k, :]\n",
        "    print(mat_approx)\n",
        "    "
      ]
    },
    {
      "cell_type": "code",
      "execution_count": null,
      "id": "stuck-powder",
      "metadata": {
        "id": "stuck-powder",
        "outputId": "a5f80927-6212-49d7-8512-9fbf94223213"
      },
      "outputs": [
        {
          "name": "stdout",
          "output_type": "stream",
          "text": [
            "Approximation 1:\n",
            "[[41.16334534]]\n",
            "\n",
            "[[0.52381226 0.52520819 0.52733988 ... 0.52235088 0.51585174 0.51484324]\n",
            " [0.69393484 0.69578415 0.69860817 ... 0.69199884 0.68338893 0.68205289]\n",
            " [0.71546751 0.7173742  0.72028584 ... 0.71347144 0.70459436 0.70321686]\n",
            " ...\n",
            " [0.67724554 0.67905037 0.68180647 ... 0.6753561  0.66695326 0.66564935]\n",
            " [0.59688089 0.59847155 0.6009006  ... 0.59521566 0.58780993 0.58666075]\n",
            " [0.34615997 0.34708248 0.3484912  ... 0.34519423 0.34089929 0.34023282]]\n",
            "\n",
            "Approximation 2:\n",
            "[[41.16334534  0.          0.          0.          0.        ]\n",
            " [ 0.          3.83938241  0.          0.          0.        ]\n",
            " [ 0.          0.          1.99439967  0.          0.        ]\n",
            " [ 0.          0.          0.          1.31967735  0.        ]\n",
            " [ 0.          0.          0.          0.          1.18377495]]\n",
            "\n",
            "[[0.33831308 0.35914337 0.41554719 ... 0.64594166 0.67077092 0.68300347]\n",
            " [0.6949878  0.69469285 0.6966251  ... 0.6924151  0.69271242 0.69845896]\n",
            " [0.70097774 0.70387926 0.70960092 ... 0.7249206  0.71676322 0.71601254]\n",
            " ...\n",
            " [0.7382975  0.74180249 0.73772463 ... 0.61716145 0.59623833 0.58122968]\n",
            " [0.63610413 0.61645045 0.59525366 ... 0.59589397 0.61554057 0.6470436 ]\n",
            " [0.61191093 0.5801705  0.47853927 ... 0.16678585 0.13528835 0.13460339]]\n",
            "\n",
            "Approximation 3:\n",
            "[[41.16334534  0.          0.          0.          0.          0.\n",
            "   0.          0.          0.          0.        ]\n",
            " [ 0.          3.83938241  0.          0.          0.          0.\n",
            "   0.          0.          0.          0.        ]\n",
            " [ 0.          0.          1.99439967  0.          0.          0.\n",
            "   0.          0.          0.          0.        ]\n",
            " [ 0.          0.          0.          1.31967735  0.          0.\n",
            "   0.          0.          0.          0.        ]\n",
            " [ 0.          0.          0.          0.          1.18377495  0.\n",
            "   0.          0.          0.          0.        ]\n",
            " [ 0.          0.          0.          0.          0.          0.97274166\n",
            "   0.          0.          0.          0.        ]\n",
            " [ 0.          0.          0.          0.          0.          0.\n",
            "   0.8572861   0.          0.          0.        ]\n",
            " [ 0.          0.          0.          0.          0.          0.\n",
            "   0.          0.71252501  0.          0.        ]\n",
            " [ 0.          0.          0.          0.          0.          0.\n",
            "   0.          0.          0.67311108  0.        ]\n",
            " [ 0.          0.          0.          0.          0.          0.\n",
            "   0.          0.          0.          0.61996824]]\n",
            "\n",
            "[[0.32983895 0.35304113 0.4063171  ... 0.6516807  0.67820001 0.68892669]\n",
            " [0.68616143 0.68607353 0.68536863 ... 0.68001    0.68616948 0.6951768 ]\n",
            " [0.69341074 0.69624246 0.69863049 ... 0.71668262 0.71017976 0.710271  ]\n",
            " ...\n",
            " [0.74422122 0.7368667  0.71947418 ... 0.60520618 0.58061063 0.56308471]\n",
            " [0.66559291 0.63712361 0.61050991 ... 0.62899358 0.63154371 0.65104551]\n",
            " [0.5891356  0.5781657  0.49873397 ... 0.12500095 0.13730793 0.16777701]]\n",
            "\n",
            "Approximation 4:\n",
            "[[41.16334534  0.          0.          0.          0.          0.\n",
            "   0.          0.          0.          0.          0.          0.\n",
            "   0.          0.          0.          0.          0.          0.\n",
            "   0.          0.        ]\n",
            " [ 0.          3.83938241  0.          0.          0.          0.\n",
            "   0.          0.          0.          0.          0.          0.\n",
            "   0.          0.          0.          0.          0.          0.\n",
            "   0.          0.        ]\n",
            " [ 0.          0.          1.99439967  0.          0.          0.\n",
            "   0.          0.          0.          0.          0.          0.\n",
            "   0.          0.          0.          0.          0.          0.\n",
            "   0.          0.        ]\n",
            " [ 0.          0.          0.          1.31967735  0.          0.\n",
            "   0.          0.          0.          0.          0.          0.\n",
            "   0.          0.          0.          0.          0.          0.\n",
            "   0.          0.        ]\n",
            " [ 0.          0.          0.          0.          1.18377495  0.\n",
            "   0.          0.          0.          0.          0.          0.\n",
            "   0.          0.          0.          0.          0.          0.\n",
            "   0.          0.        ]\n",
            " [ 0.          0.          0.          0.          0.          0.97274166\n",
            "   0.          0.          0.          0.          0.          0.\n",
            "   0.          0.          0.          0.          0.          0.\n",
            "   0.          0.        ]\n",
            " [ 0.          0.          0.          0.          0.          0.\n",
            "   0.8572861   0.          0.          0.          0.          0.\n",
            "   0.          0.          0.          0.          0.          0.\n",
            "   0.          0.        ]\n",
            " [ 0.          0.          0.          0.          0.          0.\n",
            "   0.          0.71252501  0.          0.          0.          0.\n",
            "   0.          0.          0.          0.          0.          0.\n",
            "   0.          0.        ]\n",
            " [ 0.          0.          0.          0.          0.          0.\n",
            "   0.          0.          0.67311108  0.          0.          0.\n",
            "   0.          0.          0.          0.          0.          0.\n",
            "   0.          0.        ]\n",
            " [ 0.          0.          0.          0.          0.          0.\n",
            "   0.          0.          0.          0.61996824  0.          0.\n",
            "   0.          0.          0.          0.          0.          0.\n",
            "   0.          0.        ]\n",
            " [ 0.          0.          0.          0.          0.          0.\n",
            "   0.          0.          0.          0.          0.60193151  0.\n",
            "   0.          0.          0.          0.          0.          0.\n",
            "   0.          0.        ]\n",
            " [ 0.          0.          0.          0.          0.          0.\n",
            "   0.          0.          0.          0.          0.          0.47572961\n",
            "   0.          0.          0.          0.          0.          0.\n",
            "   0.          0.        ]\n",
            " [ 0.          0.          0.          0.          0.          0.\n",
            "   0.          0.          0.          0.          0.          0.\n",
            "   0.4457463   0.          0.          0.          0.          0.\n",
            "   0.          0.        ]\n",
            " [ 0.          0.          0.          0.          0.          0.\n",
            "   0.          0.          0.          0.          0.          0.\n",
            "   0.          0.35315946  0.          0.          0.          0.\n",
            "   0.          0.        ]\n",
            " [ 0.          0.          0.          0.          0.          0.\n",
            "   0.          0.          0.          0.          0.          0.\n",
            "   0.          0.          0.31746456  0.          0.          0.\n",
            "   0.          0.        ]\n",
            " [ 0.          0.          0.          0.          0.          0.\n",
            "   0.          0.          0.          0.          0.          0.\n",
            "   0.          0.          0.          0.29922849  0.          0.\n",
            "   0.          0.        ]\n",
            " [ 0.          0.          0.          0.          0.          0.\n",
            "   0.          0.          0.          0.          0.          0.\n",
            "   0.          0.          0.          0.          0.28397056  0.\n",
            "   0.          0.        ]\n",
            " [ 0.          0.          0.          0.          0.          0.\n",
            "   0.          0.          0.          0.          0.          0.\n",
            "   0.          0.          0.          0.          0.          0.23485091\n",
            "   0.          0.        ]\n",
            " [ 0.          0.          0.          0.          0.          0.\n",
            "   0.          0.          0.          0.          0.          0.\n",
            "   0.          0.          0.          0.          0.          0.\n",
            "   0.19593421  0.        ]\n",
            " [ 0.          0.          0.          0.          0.          0.\n",
            "   0.          0.          0.          0.          0.          0.\n",
            "   0.          0.          0.          0.          0.          0.\n",
            "   0.          0.17502007]]\n",
            "\n",
            "[[0.31182715 0.36038789 0.41925481 ... 0.66692179 0.65442018 0.65204822]\n",
            " [0.68137436 0.68621878 0.68417685 ... 0.68343875 0.68986995 0.69839653]\n",
            " [0.69025398 0.69196096 0.69325416 ... 0.71665712 0.71386651 0.7188699 ]\n",
            " ...\n",
            " [0.74353708 0.74088977 0.72106185 ... 0.59602624 0.55997849 0.55159054]\n",
            " [0.66297064 0.6497497  0.62994305 ... 0.65116525 0.64942457 0.65788002]\n",
            " [0.58873394 0.60115474 0.51295206 ... 0.13681832 0.16125644 0.15601081]]\n"
          ]
        }
      ],
      "source": [
        "# Reconstruction of the matrix using the first 1, 5, 10, and 20 singular values:\n",
        "\n",
        "# Approximation 1:\n",
        "k = 1\n",
        "s = np.zeros((k, k))\n",
        "np.fill_diagonal(s, S[:k])\n",
        "print(\"Approximation 1:\")\n",
        "print(s)\n",
        "print()\n",
        "\n",
        "approx1 = U[:, :k] @ s @ VT[:k, :]\n",
        "print(approx1)\n",
        "print()\n",
        "\n",
        "\n",
        "# Approximation 2:\n",
        "k = 5\n",
        "s = np.zeros((k, k))\n",
        "np.fill_diagonal(s, S[:k])\n",
        "print(\"Approximation 2:\")\n",
        "print(s)\n",
        "print()\n",
        "\n",
        "approx2 = U[:, :k] @ s @ VT[:k, :]\n",
        "print(approx2)\n",
        "print()\n",
        "\n",
        "\n",
        "# Approximation 3:\n",
        "k = 10\n",
        "s = np.zeros((k, k))\n",
        "np.fill_diagonal(s, S[:k])\n",
        "print(\"Approximation 3:\")\n",
        "print(s)\n",
        "print()\n",
        "\n",
        "approx3 = U[:, :k] @ s @ VT[:k, :]\n",
        "print(approx3)\n",
        "print()\n",
        "\n",
        "# Approximation 4:\n",
        "k = 20\n",
        "s = np.zeros((k, k))\n",
        "np.fill_diagonal(s, S[:k])\n",
        "print(\"Approximation 4:\")\n",
        "print(s)\n",
        "print()\n",
        "\n",
        "approx4 = U[:, :k] @ s @ VT[:k, :]\n",
        "print(approx4)\n"
      ]
    },
    {
      "cell_type": "code",
      "execution_count": null,
      "id": "changing-party",
      "metadata": {
        "id": "changing-party",
        "outputId": "573e2bb8-0d05-4aaf-f5cb-03bdb308fa3d"
      },
      "outputs": [
        {
          "data": {
            "text/plain": [
              "((81, 49), (81, 49), (81, 49), (81, 49))"
            ]
          },
          "execution_count": 772,
          "metadata": {},
          "output_type": "execute_result"
        }
      ],
      "source": [
        "approx1.shape, approx2.shape, approx3.shape, approx4.shape"
      ]
    },
    {
      "cell_type": "code",
      "execution_count": null,
      "id": "endangered-harmony",
      "metadata": {
        "id": "endangered-harmony",
        "outputId": "2991210e-c67c-4520-f401-0f1837d0a19b"
      },
      "outputs": [
        {
          "data": {
            "image/png": "[encoded data removed]",
            "text/plain": [
              "<Figure size 432x288 with 1 Axes>"
            ]
          },
          "metadata": {
            "needs_background": "light"
          },
          "output_type": "display_data"
        },
        {
          "data": {
            "image/png": "[encoded data removed]",
            "text/plain": [
              "<Figure size 432x288 with 1 Axes>"
            ]
          },
          "metadata": {
            "needs_background": "light"
          },
          "output_type": "display_data"
        },
        {
          "data": {
            "image/png": "[encoded data removed]",
            "text/plain": [
              "<Figure size 432x288 with 1 Axes>"
            ]
          },
          "metadata": {
            "needs_background": "light"
          },
          "output_type": "display_data"
        },
        {
          "data": {
            "image/png": "[encoded data removed]",
            "text/plain": [
              "<Figure size 432x288 with 1 Axes>"
            ]
          },
          "metadata": {
            "needs_background": "light"
          },
          "output_type": "display_data"
        }
      ],
      "source": [
        "for i in [approx1, approx2, approx3, approx4]:\n",
        "    plt.imshow(create_face(i))\n",
        "    plt.title(\"Approximation\")\n",
        "    plt.show()"
      ]
    },
    {
      "cell_type": "markdown",
      "id": "protected-produce",
      "metadata": {
        "id": "protected-produce"
      },
      "source": [
        "## Part (g):"
      ]
    },
    {
      "cell_type": "markdown",
      "id": "coupled-wealth",
      "metadata": {
        "id": "coupled-wealth"
      },
      "source": [
        "In general for out images, for approximations using rank k, SVD decomposes the matrix to matrices with the following sizes:\n",
        "$$(81, k)*(k, k)*(k, 49)$$\n",
        "\n",
        "- For rank k = 1, SVD decomposes the matrix to matrices with the following sizes:\n",
        "$(81, 1)*(1, 1)*(1, 49)$. A total of $81 + 1 + 49 = 131$ nonzero parameters have been used. A fraction of 131/3969 has to be stored for this approximation.\n",
        "\n",
        "- For rank k = 5, SVD decomposes the matrix to matrices with the following sizes:\n",
        "$(81, 5)*(5, 5)*(5, 49)$. A total of $405 + 5 + 245 = 655$ nonzero parameters have been used. A fraction of 655/3969 has to be stored for this approximation.\n",
        "\n",
        "- For rank k = 10, SVD decomposes the matrix to matrices with the following sizes:\n",
        "$(81, 10)*(10, 10)*(10, 49)$. A total of $810 + 10 + 490 = 1310$ nonzero parameters have been used. A fraction of 1310/3969 has to be stored for this approximation.\n",
        "\n",
        "- For rank k = 20, SVD decomposes the matrix to matrices with the following sizes:\n",
        "$(81, 20)*(20, 20)*(20, 49)$. A total of $1620 + 20 + 980 = 2620$ parameters have been used. A fraction of 2620/3969 has to be stored for this approximation.\n",
        "\n",
        "\n",
        "**Side Note:** The number of parameters in Diagonal Matrices has been taken to be equal to the number of singular values considered; that is, k. All other entries in U and V_T have been considered to be nonzero for ease of calculation. \n",
        "\n",
        "**Comments:** We are definitely saving space with the approximations above, with such an image produced with a 20-rank approximation saving up to 34% of space used to store parameters.\n",
        "\n"
      ]
    },
    {
      "cell_type": "markdown",
      "id": "settled-blackjack",
      "metadata": {
        "id": "settled-blackjack"
      },
      "source": [
        "## Part (f):"
      ]
    },
    {
      "cell_type": "code",
      "execution_count": null,
      "id": "immediate-tokyo",
      "metadata": {
        "id": "immediate-tokyo",
        "outputId": "e952c518-4cd8-406a-e773-104521b74b22"
      },
      "outputs": [
        {
          "data": {
            "text/plain": [
              "((63, 63), (63,), (63, 63))"
            ]
          },
          "execution_count": 959,
          "metadata": {},
          "output_type": "execute_result"
        }
      ],
      "source": [
        "# SVD on A1:\n",
        "U1, S1, VT1 = np.linalg.svd(A_1, full_matrices=False)\n",
        "U1.shape, S1.shape, VT1.shape"
      ]
    },
    {
      "cell_type": "code",
      "execution_count": null,
      "id": "returning-lighter",
      "metadata": {
        "id": "returning-lighter",
        "outputId": "edd53371-dbb8-4458-a992-7fd10c960c55"
      },
      "outputs": [
        {
          "name": "stdout",
          "output_type": "stream",
          "text": [
            "(63, 20) \n",
            "\n",
            "[[-6.95866197e-02  2.09368974e-01  2.68282718e-03 ... -7.02758655e-02\n",
            "   1.27091005e-01 -3.28754723e-01]\n",
            " [-7.36471489e-02  2.34783515e-01 -7.46341720e-02 ...  9.33572650e-02\n",
            "  -1.70569837e-01  3.35310280e-01]\n",
            " [-8.76807198e-02  2.90507823e-01 -9.63703692e-02 ...  7.86800832e-02\n",
            "   1.69460669e-01 -2.08169833e-01]\n",
            " ...\n",
            " [-9.16361734e-02  3.00291508e-01  2.96372604e-02 ...  1.06860414e-01\n",
            "   7.51106814e-03  8.79204795e-02]\n",
            " [-8.08295831e-02  2.87140250e-01 -6.89454703e-03 ... -1.37249976e-01\n",
            "  -2.12069601e-01  1.62569314e-01]\n",
            " [-7.05568120e-02  2.45613530e-01  2.06720899e-03 ... -1.11265495e-01\n",
            "  -3.15514160e-04  1.75223239e-02]]\n"
          ]
        }
      ],
      "source": [
        "print(VT1.T[:, 0:20].shape, \"\\n\")\n",
        "V1_20 = VT.T[:, 0:20]\n",
        "print(V1_20)"
      ]
    },
    {
      "cell_type": "code",
      "execution_count": null,
      "id": "pressed-illustration",
      "metadata": {
        "id": "pressed-illustration",
        "outputId": "1e378519-8f61-4ded-ff6c-dc28e1109d0c"
      },
      "outputs": [
        {
          "data": {
            "text/plain": [
              "((81, 49), (49,), (49, 49))"
            ]
          },
          "execution_count": 969,
          "metadata": {},
          "output_type": "execute_result"
        }
      ],
      "source": [
        "# SVD on B2:\n",
        "U2, S2, VT2 = np.linalg.svd(B2, full_matrices=False)\n",
        "U2.shape, S2.shape, VT2.shape"
      ]
    },
    {
      "cell_type": "code",
      "execution_count": null,
      "id": "changing-anthony",
      "metadata": {
        "id": "changing-anthony",
        "outputId": "0aa4c5eb-b1ea-4901-d859-3d2cc2c25728"
      },
      "outputs": [
        {
          "data": {
            "text/plain": [
              "((81, 49), (49,), (49, 49))"
            ]
          },
          "execution_count": 968,
          "metadata": {},
          "output_type": "execute_result"
        }
      ],
      "source": [
        "# SVD on B3:\n",
        "U3, S3, VT3 = np.linalg.svd(B3, full_matrices=False)\n",
        "U3.shape, S3.shape, VT3.shape"
      ]
    },
    {
      "cell_type": "code",
      "execution_count": null,
      "id": "foster-finish",
      "metadata": {
        "id": "foster-finish"
      },
      "outputs": [],
      "source": [
        "Y2 = U2 @ S2\n",
        "Y3 = U3 @ S3"
      ]
    },
    {
      "cell_type": "code",
      "execution_count": null,
      "id": "brutal-ozone",
      "metadata": {
        "id": "brutal-ozone"
      },
      "outputs": [],
      "source": []
    }
  ],
  "metadata": {
    "kernelspec": {
      "display_name": "Python 3",
      "language": "python",
      "name": "python3"
    },
    "language_info": {
      "codemirror_mode": {
        "name": "ipython",
        "version": 3
      },
      "file_extension": ".py",
      "mimetype": "text/x-python",
      "name": "python",
      "nbconvert_exporter": "python",
      "pygments_lexer": "ipython3",
      "version": "3.8.3"
    },
    "toc": {
      "base_numbering": 1,
      "nav_menu": {},
      "number_sections": true,
      "sideBar": true,
      "skip_h1_title": false,
      "title_cell": "Table of Contents",
      "title_sidebar": "Contents",
      "toc_cell": false,
      "toc_position": {},
      "toc_section_display": true,
      "toc_window_display": false
    },
    "colab": {
      "provenance": []
    }
  },
  "nbformat": 4,
  "nbformat_minor": 5
}