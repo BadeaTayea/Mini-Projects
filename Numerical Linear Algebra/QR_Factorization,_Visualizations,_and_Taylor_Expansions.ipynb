{
  "cells": [
    {
      "cell_type": "markdown",
      "metadata": {
        "id": "tMZhF1z-212U"
      },
      "source": [
        " ## QR Factorization"
      ]
    },
    {
      "cell_type": "code",
      "execution_count": null,
      "metadata": {
        "id": "atJqynCC212U"
      },
      "outputs": [],
      "source": [
        "import numpy as np \n",
        "import matplotlib.pyplot as plt "
      ]
    },
    {
      "cell_type": "markdown",
      "metadata": {
        "id": "DfIcjsPq212V"
      },
      "source": [
        "Using `np.random.randn(5,5)` to generate a matrix of shape (5, 5), filled with random floats sampled from a univariate “normal” (Gaussian) distribution of mean 0 and variance 1. \n",
        "\n",
        "Source: [numpy.random.randn - NumPy Docs](https://numpy.org/doc/stable/reference/random/generated/numpy.random.randn.html)"
      ]
    },
    {
      "cell_type": "code",
      "execution_count": null,
      "metadata": {
        "id": "gkG57oly212W",
        "outputId": "cf8a065b-e360-4b60-a406-540017add265"
      },
      "outputs": [
        {
          "name": "stdout",
          "output_type": "stream",
          "text": [
            "[[ 1.08556443 -1.28925009  0.4022599   0.40418302 -0.09831113]\n",
            " [ 1.37627311  1.29803582  0.00810872  0.14528888  0.91048148]\n",
            " [-0.26040187  0.01979778  1.86659748 -0.55656142 -0.01489163]\n",
            " [-0.04350017 -1.06585028 -0.00246175 -0.07568192 -0.60882791]\n",
            " [ 0.30008458  0.82015357  0.41909638  0.84989735  1.55590237]]\n"
          ]
        }
      ],
      "source": [
        "# Generating a 5x5 random matrix:\n",
        "X = np.random.randn(5, 5)\n",
        "print(X) "
      ]
    },
    {
      "cell_type": "markdown",
      "metadata": {
        "id": "lBmnyerP212X"
      },
      "source": [
        "Defining `gram_schmidt` and `QR_factorization`:"
      ]
    },
    {
      "cell_type": "code",
      "execution_count": null,
      "metadata": {
        "id": "RgceAWHc212X"
      },
      "outputs": [],
      "source": [
        "# Gram-Schmidt Algorithm [IALA-PC]:\n",
        "\n",
        "def gram_schmidt(a):\n",
        "  q = []\n",
        "  for i in range(len(a)):\n",
        "    # Orthogonalization:\n",
        "    q_tilde = a[i]\n",
        "    for j in range(len(q)):\n",
        "      q_tilde = q_tilde - (q[j] @ a[i])*q[j]\n",
        "    # Test for Dependennce:\n",
        "    if np.sqrt(sum(q_tilde**2)) <= 1e-10:\n",
        "      print(\"Vectors are linearly dependent.\")\n",
        "      print(\"GS algorithm terminates at iteration \", i+1)\n",
        "      return q\n",
        "    # Normalization:\n",
        "    else:\n",
        "      q_tilde = q_tilde / np.sqrt(sum(q_tilde**2))\n",
        "      q.append(q_tilde)\n",
        "  print(\"Vectors are linearly independent.\")\n",
        "  return q"
      ]
    },
    {
      "cell_type": "code",
      "execution_count": null,
      "metadata": {
        "id": "jPz56dIv212X"
      },
      "outputs": [],
      "source": [
        "# QR Factorization Function [IALA-PC]:\n",
        "\n",
        "def QR_factorization(A):\n",
        "  Q_transpose = np.array(gram_schmidt(A.T))\n",
        "  R = Q_transpose @ A\n",
        "  Q = Q_transpose.T\n",
        "  return Q, R"
      ]
    },
    {
      "cell_type": "code",
      "execution_count": null,
      "metadata": {
        "id": "sf5nPqjy212X",
        "outputId": "8768f56f-d9be-45c0-be45-3ac6480940f6"
      },
      "outputs": [
        {
          "name": "stdout",
          "output_type": "stream",
          "text": [
            "Vectors are linearly independent.\n",
            "[[ 6.03806468e-01 -6.76784269e-01  1.68737665e-01  1.86095968e-01\n",
            "  -3.38048360e-01]\n",
            " [ 7.65502795e-01  4.51418510e-01 -1.90000747e-04 -3.82433190e-01\n",
            "   2.52926112e-01]\n",
            " [-1.44839243e-01  3.30932448e-02  9.60325227e-01 -2.34662431e-01\n",
            "   2.52077680e-02]\n",
            " [-2.41954161e-02 -4.71873498e-01 -1.60893732e-02 -2.28289638e-02\n",
            "   8.80891568e-01]\n",
            " [ 1.66911340e-01  3.38267086e-01  2.21459147e-01  8.73799478e-01\n",
            "   2.12476591e-01]]\n",
            "[[ 1.79786817e+00  3.75006628e-01  4.87493075e-02  5.79567964e-01\n",
            "   9.14200708e-01]\n",
            " [ 6.46211602e-17  2.23953420e+00 -6.38828333e-02  9.68275453e-02\n",
            "   1.29065112e+00]\n",
            " [ 6.71829039e-17 -1.56020392e-17  1.95326784e+00 -2.76871460e-01\n",
            "   3.23301879e-01]\n",
            " [ 2.92148733e-16  2.12981396e-16 -2.83486635e-16  8.94625192e-01\n",
            "   1.01044645e+00]\n",
            " [-6.84724094e-15  4.21301116e-15  2.89854087e-15 -5.98258777e-15\n",
            "   5.74245322e-02]]\n"
          ]
        }
      ],
      "source": [
        "Q, R = QR_factorization(X)\n",
        "print(Q)\n",
        "print(R)"
      ]
    },
    {
      "cell_type": "markdown",
      "metadata": {
        "id": "QVaANN7Z212X"
      },
      "source": [
        "<u>Note:</u> \n",
        "\n",
        "In the following computations we round all the entries of the output matrices to five digits following the decimal point using `np.round(M, 5)`, where M is a computed matrix, for ease of understanding and visualization. With this, a number like **1.00000000e+00** will simply be displayed as **1.** and **-7.93311447e-17** will simply be displayed as **-0.** The original output matrices could be displayed by removing the hash \"#\" sign from the first print command of each block."
      ]
    },
    {
      "cell_type": "markdown",
      "metadata": {
        "id": "tCHoOG_6212Y"
      },
      "source": [
        "### Part 1a"
      ]
    },
    {
      "cell_type": "code",
      "execution_count": null,
      "metadata": {
        "id": "fGJv9bW8212Y",
        "outputId": "dd76523f-5136-4335-9371-33760da20965"
      },
      "outputs": [
        {
          "name": "stdout",
          "output_type": "stream",
          "text": [
            "[[ 1. -0.  0.  0. -0.]\n",
            " [-0.  1. -0.  0.  0.]\n",
            " [ 0. -0.  1. -0.  0.]\n",
            " [ 0.  0. -0.  1. -0.]\n",
            " [-0.  0.  0. -0.  1.]]\n"
          ]
        }
      ],
      "source": [
        "# Part 1a:\n",
        "#print(Q.T @ Q)\n",
        "print(np.round(Q.T @ Q, 5))\n",
        "\n",
        "# Expected Result: Identity Matrix of shape 5x5 as Q @ Q.T = I"
      ]
    },
    {
      "cell_type": "markdown",
      "metadata": {
        "id": "V8pBG7Xt212Y"
      },
      "source": [
        "### Part 1b"
      ]
    },
    {
      "cell_type": "code",
      "execution_count": null,
      "metadata": {
        "id": "BDlg678L212Y",
        "outputId": "acc6f119-bf32-4263-8fd6-6a20930dfcd0"
      },
      "outputs": [
        {
          "name": "stdout",
          "output_type": "stream",
          "text": [
            "[[ 1. -0. -0. -0.  0.]\n",
            " [-0.  1.  0. -0. -0.]\n",
            " [-0.  0.  1.  0.  0.]\n",
            " [-0. -0.  0.  1. -0.]\n",
            " [ 0. -0.  0. -0.  1.]]\n"
          ]
        }
      ],
      "source": [
        "# Part 1b:\n",
        "#print(Q @ Q.T)\n",
        "print(np.round(Q @ Q.T, 5))\n",
        "\n",
        "# Expected Result: Identity Matrix of shape 5x5 as Q @ Q.T = I"
      ]
    },
    {
      "cell_type": "markdown",
      "metadata": {
        "id": "eTnrnV5J212Y"
      },
      "source": [
        "### Part 1c"
      ]
    },
    {
      "cell_type": "code",
      "execution_count": null,
      "metadata": {
        "id": "pCo5oIOO212Y",
        "outputId": "c1b7d67b-3430-41ae-8a2e-ef3d8c639a67"
      },
      "outputs": [
        {
          "name": "stdout",
          "output_type": "stream",
          "text": [
            "[[ 1.79787  0.37501  0.04875  0.57957  0.9142 ]\n",
            " [ 0.       2.23953 -0.06388  0.09683  1.29065]\n",
            " [ 0.      -0.       1.95327 -0.27687  0.3233 ]\n",
            " [ 0.       0.      -0.       0.89463  1.01045]\n",
            " [-0.       0.       0.      -0.       0.05742]]\n"
          ]
        }
      ],
      "source": [
        "# Part 1c:\n",
        "#print(R)\n",
        "print(np.round(R, 5))\n",
        "\n",
        "# Expected Result: Upper Triangular Matrix of shape 5x5"
      ]
    },
    {
      "cell_type": "markdown",
      "metadata": {
        "id": "DqOkGkWB212Y"
      },
      "source": [
        "### Part 1d"
      ]
    },
    {
      "cell_type": "code",
      "execution_count": null,
      "metadata": {
        "id": "xatQb7de212Z",
        "outputId": "64824956-e069-4aa6-c6e4-d0a860f75b1f"
      },
      "outputs": [
        {
          "name": "stdout",
          "output_type": "stream",
          "text": [
            "[[ 0. -0. -0.  0.  0.]\n",
            " [-0.  0.  0. -0. -0.]\n",
            " [-0.  0. -0. -0. -0.]\n",
            " [-0.  0.  0. -0. -0.]\n",
            " [-0.  0.  0. -0. -0.]]\n"
          ]
        }
      ],
      "source": [
        "# Part 1d:\n",
        "#print((Q @ R) - X)\n",
        "print(np.round((Q @ R) - X, 5))\n",
        "\n",
        "# Expected Result: Zero Matrix of shape 5x5 as X = Q@R"
      ]
    },
    {
      "cell_type": "markdown",
      "metadata": {
        "id": "5B5_uvTu212Z"
      },
      "source": [
        " ## Visualization"
      ]
    },
    {
      "cell_type": "code",
      "execution_count": null,
      "metadata": {
        "id": "cmzJ-c2I212Z"
      },
      "outputs": [],
      "source": [
        "# Define matrix Y:\n",
        "Y = np.array([\n",
        "              [1, -4], \n",
        "              [2, 1]\n",
        "])"
      ]
    },
    {
      "cell_type": "code",
      "execution_count": null,
      "metadata": {
        "id": "zyIZvJQd212Z",
        "outputId": "0a0b8921-4f64-45fa-99dc-1fbeb474fabe"
      },
      "outputs": [
        {
          "name": "stdout",
          "output_type": "stream",
          "text": [
            "[array([1, 2]), array([-4,  1])]\n"
          ]
        }
      ],
      "source": [
        "# A generalized for-loop algorithm for extracting individual column vectors from a matrix (as applied to Y):\n",
        "vectors = []\n",
        "for i in range(0, len(Y), 1):\n",
        "  vectors.append(Y[:, i])\n",
        "\n",
        "print(vectors)"
      ]
    },
    {
      "cell_type": "markdown",
      "metadata": {
        "id": "eiSit7pi212Z"
      },
      "source": [
        "The lines of code below were mainly influenced by the following resources:\n",
        "- [matplotlib.pyplot.quiver - Matplotlib Docs](https://matplotlib.org/stable/api/_as_gen/matplotlib.pyplot.quiver.html)\n",
        "- [How to Plot 2D Math Vectors with Matplotlib - Stack Overflow](https://stackoverflow.com/questions/12265234/how-to-plot-2d-math-vectors-with-matplotlib)\n",
        "- [How to Add Two Vectors in 2D in Python Graphically](https://mrcreamio.wordpress.com/2018/10/26/how-to-add-two-vectors-in-2d-in-python-graphically/)"
      ]
    },
    {
      "cell_type": "code",
      "execution_count": null,
      "metadata": {
        "id": "VNjyjw-e212Z",
        "outputId": "01f07352-aa48-432e-a2a9-e7f71dde76fe"
      },
      "outputs": [
        {
          "data": {
            "image/png": "[encoded data removed]",
            "text/plain": [
              "<Figure size 432x288 with 1 Axes>"
            ]
          },
          "metadata": {
            "needs_background": "light"
          },
          "output_type": "display_data"
        }
      ],
      "source": [
        "# Extra - Plotting the column vectors using Matplotlib:\n",
        "\n",
        "vec1 = vectors[0]\n",
        "vec2 = vectors[1]\n",
        "\n",
        "v1 = np.array([[0, 0, vec1[0], vec1[1]]])\n",
        "v2 = np.array([[0, 0, vec2[0], vec2[1]]])\n",
        "\n",
        "X1, Y1, U1, V1 = zip(*v1)\n",
        "X2, Y2, U2, V2 = zip(*v2)\n",
        "\n",
        "plt.figure()\n",
        "ax = plt.gca()\n",
        "ax.quiver(X1, Y1, U1, V1, angles='xy', scale_units='xy', scale=1, color='orange', label=str(vectors[0]))\n",
        "ax.quiver(X2, Y2, U2, V2, angles='xy', scale_units='xy', scale=1, color='blue', label=str(vectors[1]))\n",
        "\n",
        "\n",
        "ax.set_xlim([-6, 6])\n",
        "ax.set_ylim([-6, 6])\n",
        "ax.axhline(y=0, color='k')\n",
        "ax.axvline(x=0, color='k')\n",
        "plt.title(\"Plotting Columns of Y\")\n",
        "plt.grid()\n",
        "plt.legend()\n",
        "plt.draw()\n",
        "plt.show()"
      ]
    },
    {
      "cell_type": "code",
      "execution_count": null,
      "metadata": {
        "id": "RmjSk-Vt212a",
        "outputId": "d7b94c73-5038-473c-87e5-e2d4e9ddc52d"
      },
      "outputs": [
        {
          "name": "stdout",
          "output_type": "stream",
          "text": [
            "Vectors are linearly independent.\n",
            "[[ 0.4472136  -0.89442719]\n",
            " [ 0.89442719  0.4472136 ]]\n",
            "[[ 2.23606798e+00 -8.94427191e-01]\n",
            " [-1.11022302e-16  4.02492236e+00]]\n"
          ]
        }
      ],
      "source": [
        "Q, R = QR_factorization(Y)\n",
        "print(Q)\n",
        "print(R)"
      ]
    },
    {
      "cell_type": "code",
      "execution_count": null,
      "metadata": {
        "id": "yumeIAPw212a",
        "outputId": "8d95a1ac-063d-41d5-ee8a-247bb4e4cf5a"
      },
      "outputs": [
        {
          "name": "stdout",
          "output_type": "stream",
          "text": [
            "[array([0.4472136 , 0.89442719]), array([-0.89442719,  0.4472136 ])]\n"
          ]
        }
      ],
      "source": [
        "# Extracting columns of Q:\n",
        "vectors = []\n",
        "for i in range(0, len(Q), 1):\n",
        "  vectors.append(Q[:, i])\n",
        "\n",
        "print(vectors)"
      ]
    },
    {
      "cell_type": "code",
      "execution_count": null,
      "metadata": {
        "id": "UqiHxx-v212a",
        "outputId": "5773b7ce-c9fd-47f2-80c8-6b97cd84fa99"
      },
      "outputs": [
        {
          "data": {
            "image/png": "[encoded data removed]",
            "text/plain": [
              "<Figure size 432x288 with 1 Axes>"
            ]
          },
          "metadata": {
            "needs_background": "light"
          },
          "output_type": "display_data"
        }
      ],
      "source": [
        "# Plotting columns of Q:\n",
        "\n",
        "vec1 = vectors[0]\n",
        "vec2 = vectors[1]\n",
        "\n",
        "v1 = np.array([[0, 0, vec1[0], vec1[1]]])\n",
        "v2 = np.array([[0, 0, vec2[0], vec2[1]]])\n",
        "\n",
        "X1, Y1, U1, V1 = zip(*v1)\n",
        "X2, Y2, U2, V2 = zip(*v2)\n",
        "\n",
        "plt.figure()\n",
        "ax = plt.gca()\n",
        "ax.quiver(X1, Y1, U1, V1, angles='xy', scale_units='xy', scale=1, color='orange', label=str(vectors[0]))\n",
        "ax.quiver(X2, Y2, U2, V2, angles='xy', scale_units='xy', scale=1, color='blue', label=str(vectors[1]))\n",
        "\n",
        "\n",
        "ax.set_xlim([-4, 4])\n",
        "ax.set_ylim([-4, 4])\n",
        "ax.axhline(y=0, color='k')\n",
        "ax.axvline(x=0, color='k')\n",
        "plt.title(\"Plotting Columns of Matrix Q\")\n",
        "plt.grid()\n",
        "plt.legend()\n",
        "plt.draw()\n",
        "plt.show()"
      ]
    },
    {
      "cell_type": "markdown",
      "metadata": {
        "id": "p-SaawCM212a"
      },
      "source": [
        "The following lines of code were implemented based on documentation provided by: [matplotlib.pyplot.matshow](https://matplotlib.org/stable/api/_as_gen/matplotlib.pyplot.matshow.html)"
      ]
    },
    {
      "cell_type": "code",
      "execution_count": null,
      "metadata": {
        "id": "QcVXkNQj212a",
        "outputId": "83aa5bf3-a26e-4e82-c62f-da7d6f9441dd"
      },
      "outputs": [
        {
          "data": {
            "image/png": "[encoded data removed]",
            "text/plain": [
              "<Figure size 288x288 with 2 Axes>"
            ]
          },
          "metadata": {
            "needs_background": "light"
          },
          "output_type": "display_data"
        },
        {
          "data": {
            "image/png": "[encoded data removed]",
            "text/plain": [
              "<Figure size 288x288 with 2 Axes>"
            ]
          },
          "metadata": {
            "needs_background": "light"
          },
          "output_type": "display_data"
        },
        {
          "data": {
            "image/png": "[encoded data removed]",
            "text/plain": [
              "<Figure size 288x288 with 2 Axes>"
            ]
          },
          "metadata": {
            "needs_background": "light"
          },
          "output_type": "display_data"
        }
      ],
      "source": [
        "# Extra - Plotting Y, Q, and R using Matplotlib's matshow() module:\n",
        "Titles = [\"Matrix (Y)\", \"Matrix (Q)\", \"Matrix (R)\"]\n",
        "Matrices = [Y, Q, R]\n",
        "for i in range(3):\n",
        "  plt.matshow(Matrices[i])\n",
        "  plt.title(Titles[i])\n",
        "  plt.colorbar()\n",
        "  plt.show()"
      ]
    },
    {
      "cell_type": "markdown",
      "metadata": {
        "id": "C8g-Erkq212c"
      },
      "source": [
        "## Taylor Expansions\n"
      ]
    },
    {
      "cell_type": "code",
      "execution_count": null,
      "metadata": {
        "id": "st1XrBmR212d",
        "outputId": "bfc82285-a649-4ada-ba35-82eda3af203e"
      },
      "outputs": [
        {
          "name": "stderr",
          "output_type": "stream",
          "text": [
            "WARNING:absl:No GPU/TPU found, falling back to CPU. (Set TF_CPP_MIN_LOG_LEVEL=0 and rerun for more info.)\n"
          ]
        },
        {
          "name": "stdout",
          "output_type": "stream",
          "text": [
            "[3.5474424 4.2974424 4.2974424 2.1487212]\n"
          ]
        },
        {
          "data": {
            "image/png": "[encoded data removed]",
            "text/plain": [
              "<Figure size 432x288 with 1 Axes>"
            ]
          },
          "metadata": {
            "needs_background": "light"
          },
          "output_type": "display_data"
        }
      ],
      "source": [
        "from jax import grad \n",
        "import jax.numpy as jnp\n",
        "\n",
        "# Defining function:\n",
        "def f(x):\n",
        "  return x**2 + 2*jnp.exp(x)\n",
        "\n",
        "# Computing coefficients:\n",
        "n = 3 # Number of Coefficients - 1\n",
        "a = 0.5 # Center\n",
        "coeffs = [f(a),]\n",
        "\n",
        "for i in range(n):\n",
        "  deriv = grad(f)\n",
        "  coeffs.append(deriv(a)/(np.math.factorial(i)))\n",
        "\n",
        "coeffs = np.array(coeffs)\n",
        "print(coeffs)\n",
        "\n",
        "# Timeline (Domain)\n",
        "x = (np.linspace(-2, 2, 100))\n",
        "\n",
        "# Orders of Taylor Approximations:\n",
        "T0 = coeffs[0]\n",
        "T1 = coeffs[0] + coeffs[1]*(x-a)\n",
        "T2 = coeffs[0] + coeffs[1]*(x-a) + coeffs[2]*(x-a)**2\n",
        "T3 = coeffs[0] + coeffs[1]*(x-a) + coeffs[2]*(x-a)**2 + coeffs[3]*(x-a)**3\n",
        "\n",
        "# Plotting:\n",
        "plt.plot(x, f(x), color = \"k\", linewidth = 2, label = \"Original Function\")\n",
        "plt.plot(a, f(a), '.', label = \"Order = 0\", color = \"k\", linewidth=2)\n",
        "plt.plot(x, T1, linestyle=\"--\", label = \"Order = 1\")\n",
        "plt.plot(x, T2, linestyle=\"--\", label = \"Order = 2\")\n",
        "plt.plot(x, T3, linestyle=\"--\", label = \"Order = 3\")\n",
        "\n",
        "\n",
        "\n",
        "# Plot Formatting:\n",
        "plt.axvline(x=0, linewidth=1, color=\"k\")\n",
        "plt.axhline(y=0, linewidth=1, color=\"k\")\n",
        "\n",
        "plt.title(\"Taylor Approximation\")\n",
        "plt.legend(loc=\"best\")\n",
        "plt.grid()\n",
        "plt.show()\n"
      ]
    }
  ],
  "metadata": {
    "kernelspec": {
      "display_name": "Python 3",
      "language": "python",
      "name": "python3"
    },
    "language_info": {
      "codemirror_mode": {
        "name": "ipython",
        "version": 3
      },
      "file_extension": ".py",
      "mimetype": "text/x-python",
      "name": "python",
      "nbconvert_exporter": "python",
      "pygments_lexer": "ipython3",
      "version": "3.8.3"
    },
    "toc": {
      "base_numbering": 1,
      "nav_menu": {},
      "number_sections": true,
      "sideBar": true,
      "skip_h1_title": false,
      "title_cell": "Table of Contents",
      "title_sidebar": "Contents",
      "toc_cell": false,
      "toc_position": {},
      "toc_section_display": true,
      "toc_window_display": false
    },
    "colab": {
      "provenance": []
    }
  },
  "nbformat": 4,
  "nbformat_minor": 0
}