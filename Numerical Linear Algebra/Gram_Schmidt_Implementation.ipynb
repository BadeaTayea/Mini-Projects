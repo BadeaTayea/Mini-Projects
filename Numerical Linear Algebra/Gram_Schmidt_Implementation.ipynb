{
  "cells": [
    {
      "cell_type": "code",
      "execution_count": null,
      "id": "conceptual-ancient",
      "metadata": {
        "id": "conceptual-ancient"
      },
      "outputs": [],
      "source": [
        "import numpy as np \n",
        "import numpy.linalg as nl\n",
        "import matplotlib.pyplot as plt\n",
        "import pandas as pd\n",
        "import scipy.optimize as so\n",
        "import scipy.linalg as sl\n",
        "#import jax.numpy as jnp\n",
        "#from jax import grad\n",
        "\n",
        "import math\n",
        "import sklearn.datasets"
      ]
    },
    {
      "cell_type": "markdown",
      "id": "seven-chosen",
      "metadata": {
        "id": "seven-chosen"
      },
      "source": [
        "# Question 1"
      ]
    },
    {
      "cell_type": "code",
      "execution_count": null,
      "id": "laden-characteristic",
      "metadata": {
        "id": "laden-characteristic"
      },
      "outputs": [],
      "source": [
        "# Gram-Schmidt Algorithm [IALA-PC]:\n",
        "\n",
        "def gram_schmidt(a):\n",
        "  q = []\n",
        "  for i in range(len(a)):\n",
        "    # Orthogonalization:\n",
        "    q_tilde = a[i]\n",
        "    for j in range(len(q)):\n",
        "      q_tilde = q_tilde - (q[j] @ a[i])*q[j]\n",
        "    # Test for Dependennce:\n",
        "    if np.sqrt(sum(q_tilde**2)) <= 1e-10:\n",
        "      #print(\"Vectors are linearly dependent.\")\n",
        "      #print(\"GS algorithm terminates at iteration \", i+1)\n",
        "      return q\n",
        "    # Normalization:\n",
        "    else:\n",
        "      q_tilde = q_tilde / np.sqrt(sum(q_tilde**2))\n",
        "      q.append(q_tilde)\n",
        "  #print(\"Vectors are linearly independent.\")\n",
        "  return q"
      ]
    },
    {
      "cell_type": "code",
      "execution_count": null,
      "id": "metric-transcript",
      "metadata": {
        "id": "metric-transcript"
      },
      "outputs": [],
      "source": [
        "# QR Factorization Function [IALA-PC]:\n",
        "\n",
        "def QR_factorization(A):\n",
        "  Q_transpose = np.array(gram_schmidt(A.T))\n",
        "  R = Q_transpose @ A\n",
        "  Q = Q_transpose.T\n",
        "  return Q, R"
      ]
    },
    {
      "cell_type": "markdown",
      "id": "multiple-gender",
      "metadata": {
        "id": "multiple-gender"
      },
      "source": [
        "## Part (a) & Part (b):"
      ]
    },
    {
      "cell_type": "markdown",
      "id": "eligible-savage",
      "metadata": {
        "id": "eligible-savage"
      },
      "source": [
        "**Resource:** Matrix Computations by Gene H. Golub and Charles F. Van Loan. "
      ]
    },
    {
      "cell_type": "markdown",
      "id": "reduced-protein",
      "metadata": {
        "id": "reduced-protein"
      },
      "source": [
        "Typically, the subspaces $F$ and $G$ are matrix ranges, e.g.,\n",
        "$$\n",
        "\\begin{array}{ll}\n",
        "F=\\operatorname{ran}(A), & A \\in \\mathbb{R}^{k \\times n} \\\\\n",
        "G=\\operatorname{ran}(B), & B \\in \\mathbb{R}^{k \\times m} .\n",
        "\\end{array}\n",
        "$$\n",
        "The principal vectors and angles can be computed using the QR factorization and the SVD. Let $A=Q_{A} R_{A}$ and $B=Q_{B} R_{B}$ be thin QR factorizations and assume that\n",
        "$$\n",
        "Q_{A}^{T} Q_{B}=Y \\Sigma Z^{T}=\\sum_{i=1}^{q} \\sigma_{i} y_{i} z_{i}^{T}\n",
        "$$\n",
        "is the SVD of $Q_{A}^{T} Q_{B} \\in \\mathbb{R}^{n \\times m}$. Since $\\left\\|Q_{A}^{T} Q_{B}\\right\\|_{2} \\leq 1$, all the singular values are between 0 and 1 and we may write $\\sigma_{i}=\\cos \\left(\\theta_{i}\\right), i=1: m .$ Let\n",
        "$$\n",
        "\\begin{aligned}\n",
        "Q_{A} Y &\\left.=\\left|f_{1}\\right| \\cdots \\mid f_{n}\\right] \\\\\n",
        "Q_{B} Z &=\\left[g_{1}|\\cdots| g_{m}\\right]\n",
        "\\end{aligned}\n",
        "$$"
      ]
    },
    {
      "cell_type": "markdown",
      "id": "consecutive-knitting",
      "metadata": {
        "id": "consecutive-knitting"
      },
      "source": [
        "In light of the following theorem, Algorithm $6.4 .3$ can also be used to compute an orthonormal basis for $\\operatorname{ran}(A) \\cap \\operatorname{ran}(B)$ where $A \\in \\mathbb{R}^{m \\times p}$ and $B \\in \\mathbb{R}^{m \\times q}$\n",
        "\n",
        "**Theorem 6.4.2.** Let $\\left\\{\\cos \\left(\\theta_{i}\\right)\\right\\}_{i=1}^{q}$ and $\\left\\{f_{i}, g_{i}\\right\\}_{i=1}^{q}$ be defined by Algorithm 6.4.3. If the index $s$ is defined by $1=\\cos \\left(\\theta_{1}\\right)=\\cdots=\\cos \\left(\\theta_{s}\\right)>\\cos \\left(\\theta_{s+1}\\right)$, then\n",
        "$$\n",
        "\\operatorname{ran}(A) \\cap \\operatorname{ran}(B)=\\operatorname{span}\\left\\{f_{1}, \\ldots, f_{s}\\right\\}=\\operatorname{span}\\left\\{g_{1}, \\ldots, g_{s}\\right\\}\n",
        "$$"
      ]
    },
    {
      "cell_type": "code",
      "execution_count": null,
      "id": "placed-tablet",
      "metadata": {
        "id": "placed-tablet"
      },
      "outputs": [],
      "source": [
        "def intersect(A, B):\n",
        "    QA, RA = QR_factorization(A)\n",
        "    QB, RB = QR_factorization(B)\n",
        "    C = QA.T@QB # Dimension n * m\n",
        "    \n",
        "    Y, s, Z_T = nl.svd(QA.T@QB) # Singular Values between 0 and 1 \n",
        "    \n",
        "    f = QA@Y # Orthonormal Columns (Principal Vectors)\n",
        "    g = QB@Z_T.T # Orthonormal Columns (Principal Vectors)\n",
        "\n",
        "    # Principal Angles:\n",
        "    #thetas = sl.subspace_angles(A, B) \n",
        "    #print(thetas, \"\\n\")\n",
        "    \n",
        "    # Orthonormal basis for ran(A) ∩ ran(B):\n",
        "    #print(\"v_f:\")\n",
        "    v_f = []\n",
        "    for i in range(0, f.shape[1]):\n",
        "      v_f.append(f[:, i])\n",
        "    #print(np.round(v_f, 3), \"\\n\")\n",
        "\n",
        "    #print(\"v_g:\")\n",
        "    v_g = []\n",
        "    for i in range(0, g.shape[1]):\n",
        "      v_g.append(g[:, i])\n",
        "    #print(np.round(v_g,3), \"\\n\")\n",
        "    \n",
        "    #Span:\n",
        "    print(\"Orthonormal basis for ran(A) ∩ ran(B):\")\n",
        "    span = []\n",
        "    for i in range(np.shape(v_f)[0]):\n",
        "        for j in range(np.shape(v_g)[0]):\n",
        "            if np.allclose(v_f[i],v_g[j]) == True:\n",
        "                span.append(v_f[i].reshape(-1, 1))\n",
        "    \n",
        "    if span != []:\n",
        "        print(\"Shape:\", np.hstack(span).shape)\n",
        "        U = np.hstack(span)\n",
        "    else: U = []\n",
        "    return U\n"
      ]
    },
    {
      "cell_type": "code",
      "execution_count": null,
      "id": "bulgarian-paragraph",
      "metadata": {
        "id": "bulgarian-paragraph"
      },
      "outputs": [],
      "source": [
        "# Note: v is taken here as column vector.\n",
        "def verify(v, U):\n",
        "    aug = np.concatenate((U, v), axis=1)\n",
        "    return np.linalg.matrix_rank(U) != np.linalg.matrix_rank(U[:,:-1])"
      ]
    },
    {
      "cell_type": "markdown",
      "id": "loaded-sample",
      "metadata": {
        "id": "loaded-sample"
      },
      "source": [
        "## Part (c):"
      ]
    },
    {
      "cell_type": "code",
      "execution_count": null,
      "id": "editorial-howard",
      "metadata": {
        "id": "editorial-howard",
        "outputId": "46cfbffb-df77-49a9-fd0c-7868e8078de1"
      },
      "outputs": [
        {
          "name": "stdout",
          "output_type": "stream",
          "text": [
            "Shape of A1: (5, 4)\n",
            "[[ 0.72691914  0.76570693  1.66844929 -1.89172172]\n",
            " [ 0.49642416 -0.25253499  0.26595154  0.86727004]\n",
            " [ 0.56951769 -1.38907031  0.51185823  3.73950234]\n",
            " [-1.58890387  1.74739157  1.33673492 -1.71442837]\n",
            " [ 2.3303401   1.72619661 -0.32390699  1.49149046]]\n"
          ]
        }
      ],
      "source": [
        "A1 = np.load(\"Q1_A1.npy\")\n",
        "print(\"Shape of A1:\", A1.shape)\n",
        "print(A1)"
      ]
    },
    {
      "cell_type": "code",
      "execution_count": null,
      "id": "danish-cutting",
      "metadata": {
        "id": "danish-cutting",
        "outputId": "6a4f7ee7-f910-4077-8614-78768b49aa99"
      },
      "outputs": [
        {
          "name": "stdout",
          "output_type": "stream",
          "text": [
            "Shape of B1: (5, 3)\n",
            "[[ 3.67389478  1.1382018   0.84157615]\n",
            " [ 2.10899494 -0.70562447 -2.09429783]\n",
            " [ 2.56734678 -0.70711484 -2.29453434]\n",
            " [ 4.17015366  2.89770021 -2.66491727]\n",
            " [-2.16499894  0.29052221 -4.15697366]]\n"
          ]
        }
      ],
      "source": [
        "B1 = np.load(\"Q1_B1.npy\")\n",
        "print(\"Shape of B1:\", B1.shape)\n",
        "print(B1)"
      ]
    },
    {
      "cell_type": "code",
      "execution_count": null,
      "id": "gross-county",
      "metadata": {
        "id": "gross-county",
        "outputId": "06d76922-6fe6-4064-973c-36dd7e5ee234"
      },
      "outputs": [
        {
          "name": "stdout",
          "output_type": "stream",
          "text": [
            "Shape of A2: (6, 2)\n",
            "[[-1. -1.]\n",
            " [ 1.  1.]\n",
            " [-1. -1.]\n",
            " [-2.  0.]\n",
            " [ 4.  1.]\n",
            " [ 2. -4.]]\n"
          ]
        }
      ],
      "source": [
        "A2 = np.load(\"Q1_A2.npy\")\n",
        "print(\"Shape of A2:\", A2.shape)\n",
        "print(A2)"
      ]
    },
    {
      "cell_type": "code",
      "execution_count": null,
      "id": "third-enforcement",
      "metadata": {
        "id": "third-enforcement",
        "outputId": "42cc244a-a28a-4923-f8b4-f79d28a9f578"
      },
      "outputs": [
        {
          "name": "stdout",
          "output_type": "stream",
          "text": [
            "Shape of B2: (6, 3)\n",
            "[[-0.2894602   0.18336193 -0.31367473]\n",
            " [-0.22877838 -0.28691597  0.83167912]\n",
            " [ 0.90195025  0.00565713  0.03488205]\n",
            " [-0.0439997   0.90152785  0.26818022]\n",
            " [ 0.15902412  0.24335181  0.31210842]\n",
            " [-0.1520998   0.10978641 -0.19841612]]\n"
          ]
        }
      ],
      "source": [
        "B2 = np.load(\"Q1_B2.npy\")\n",
        "print(\"Shape of B2:\", B2.shape)\n",
        "print(B2)"
      ]
    },
    {
      "cell_type": "markdown",
      "id": "african-montreal",
      "metadata": {
        "id": "african-montreal"
      },
      "source": [
        "### Verify Test Case 1:\n"
      ]
    },
    {
      "cell_type": "code",
      "execution_count": null,
      "id": "ordinary-forward",
      "metadata": {
        "id": "ordinary-forward",
        "outputId": "897915da-a2d2-49e1-99d6-53213ead6dc4"
      },
      "outputs": [
        {
          "name": "stdout",
          "output_type": "stream",
          "text": [
            "Orthonormal basis for ran(A) ∩ ran(B):\n",
            "Shape: (5, 2)\n",
            "[[ 0.17554948  0.58741637]\n",
            " [ 0.03035738  0.03457349]\n",
            " [ 0.04044495  0.07428885]\n",
            " [-0.59947778  0.6987357 ]\n",
            " [-0.77926338 -0.39999534]]\n"
          ]
        }
      ],
      "source": [
        "U1 = intersect(A1, B1)\n",
        "print(U1)"
      ]
    },
    {
      "cell_type": "code",
      "execution_count": null,
      "id": "secondary-scott",
      "metadata": {
        "id": "secondary-scott",
        "outputId": "72f8a1e9-7d0d-46f0-9857-a3f967e07568"
      },
      "outputs": [
        {
          "name": "stdout",
          "output_type": "stream",
          "text": [
            "[[ 0.17554948]\n",
            " [ 0.03035738]\n",
            " [ 0.04044495]\n",
            " [-0.59947778]\n",
            " [-0.77926338]]\n"
          ]
        }
      ],
      "source": [
        "v1 = U1[:, 0].reshape(-1, 1)\n",
        "print(v1)"
      ]
    },
    {
      "cell_type": "code",
      "execution_count": null,
      "id": "flying-reverse",
      "metadata": {
        "id": "flying-reverse",
        "outputId": "35407e64-7cb6-4b4c-c2e4-27ad61af8a1f"
      },
      "outputs": [
        {
          "name": "stdout",
          "output_type": "stream",
          "text": [
            "[[ 0.58741637]\n",
            " [ 0.03457349]\n",
            " [ 0.07428885]\n",
            " [ 0.6987357 ]\n",
            " [-0.39999534]]\n"
          ]
        }
      ],
      "source": [
        "v2 = U1[:, 1].reshape(-1, 1)\n",
        "print(v2)"
      ]
    },
    {
      "cell_type": "code",
      "execution_count": null,
      "id": "extra-sender",
      "metadata": {
        "id": "extra-sender",
        "outputId": "b66baf10-e749-4dc7-dc9f-e8498f5c74b0"
      },
      "outputs": [
        {
          "data": {
            "text/plain": [
              "True"
            ]
          },
          "execution_count": 20,
          "metadata": {},
          "output_type": "execute_result"
        }
      ],
      "source": [
        "verify(v1, U1)"
      ]
    },
    {
      "cell_type": "code",
      "execution_count": null,
      "id": "hired-seven",
      "metadata": {
        "scrolled": true,
        "id": "hired-seven",
        "outputId": "52ded1b1-a485-4d28-ea2a-07f687fc4162"
      },
      "outputs": [
        {
          "data": {
            "text/plain": [
              "True"
            ]
          },
          "execution_count": 21,
          "metadata": {},
          "output_type": "execute_result"
        }
      ],
      "source": [
        "verify(v2, U1)"
      ]
    },
    {
      "cell_type": "markdown",
      "id": "reserved-dairy",
      "metadata": {
        "id": "reserved-dairy"
      },
      "source": [
        "### Verify Test Case 2:\n"
      ]
    },
    {
      "cell_type": "code",
      "execution_count": null,
      "id": "compact-jacksonville",
      "metadata": {
        "id": "compact-jacksonville",
        "outputId": "9922a29e-3f1c-469c-fbde-6398acee803f"
      },
      "outputs": [
        {
          "name": "stdout",
          "output_type": "stream",
          "text": [
            "Orthonormal basis for ran(A) ∩ ran(B):\n",
            "[]\n"
          ]
        }
      ],
      "source": [
        "U2 = intersect(A2, B2)\n",
        "print(U2)"
      ]
    }
  ],
  "metadata": {
    "kernelspec": {
      "display_name": "Python 3",
      "language": "python",
      "name": "python3"
    },
    "language_info": {
      "codemirror_mode": {
        "name": "ipython",
        "version": 3
      },
      "file_extension": ".py",
      "mimetype": "text/x-python",
      "name": "python",
      "nbconvert_exporter": "python",
      "pygments_lexer": "ipython3",
      "version": "3.8.3"
    },
    "toc": {
      "base_numbering": 1,
      "nav_menu": {},
      "number_sections": true,
      "sideBar": true,
      "skip_h1_title": false,
      "title_cell": "Table of Contents",
      "title_sidebar": "Contents",
      "toc_cell": false,
      "toc_position": {},
      "toc_section_display": true,
      "toc_window_display": true
    },
    "colab": {
      "provenance": []
    }
  },
  "nbformat": 4,
  "nbformat_minor": 5
}