{
  "cells": [
    {
      "cell_type": "markdown",
      "id": "treated-creativity",
      "metadata": {
        "id": "treated-creativity"
      },
      "source": [
        "# Constrained Least Squares Problem"
      ]
    },
    {
      "cell_type": "markdown",
      "id": "ruled-saskatchewan",
      "metadata": {
        "id": "ruled-saskatchewan"
      },
      "source": [
        "## Part (a):"
      ]
    },
    {
      "cell_type": "code",
      "execution_count": null,
      "id": "christian-colonial",
      "metadata": {
        "id": "christian-colonial"
      },
      "outputs": [],
      "source": [
        "np.random.seed(1)"
      ]
    },
    {
      "cell_type": "code",
      "execution_count": null,
      "id": "novel-remark",
      "metadata": {
        "id": "novel-remark"
      },
      "outputs": [],
      "source": [
        "N = 150\n",
        "sigma = 0.1\n",
        "E = sigma**2 * np.random.randn(N)\n",
        "\n",
        "x = np.random.uniform(-1.5, 1.5, N)\n",
        "x = np.sort(x)\n",
        "\n",
        "y = x*(np.exp(-x**2) + np.cos(6*x)) + E"
      ]
    },
    {
      "cell_type": "code",
      "execution_count": null,
      "id": "compound-persian",
      "metadata": {
        "id": "compound-persian",
        "outputId": "6f0c9722-35f3-41d8-a568-6e1d71fd6675"
      },
      "outputs": [
        {
          "data": {
            "image/png": "[encoded data removed]",
            "text/plain": [
              "<Figure size 432x288 with 1 Axes>"
            ]
          },
          "metadata": {
            "needs_background": "light"
          },
          "output_type": "display_data"
        }
      ],
      "source": [
        "# Creating a scatter plot:\n",
        "plt.scatter(x, y)\n",
        "plt.title(\"Scatter Plot\")\n",
        "plt.xlabel(\"x\")\n",
        "plt.ylabel(\"y\")\n",
        "plt.show()"
      ]
    },
    {
      "cell_type": "markdown",
      "id": "indie-denial",
      "metadata": {
        "id": "indie-denial"
      },
      "source": [
        "## Part (b):"
      ]
    },
    {
      "cell_type": "markdown",
      "id": "demanding-toronto",
      "metadata": {
        "id": "demanding-toronto"
      },
      "source": [
        "Requirements of Continuity:\n",
        "\n",
        "The following is a set of conditions such that the piecewise defined function is continuous and has a continuous first derivative throughout defiend interval and has a continuous derivative at joining points:\n",
        "$$p_1(-0.5) = p_2(-0.5)$$\n",
        "$$p_2(0.5) = p_3(0.5)$$\n",
        "$$and$$\n",
        "$$p_{1}'(-0.5) = p_{2}'(-0.5)$$\n",
        "$$p_{2}'(0.5) = p_{3}'(0.5)$$\n",
        "$$and$$\n",
        "$$p_{1}''(-0.5) = p_{2}''(-0.5)$$\n",
        "$$p_{2}''(0.5) = p_{3}''(0.5)$$"
      ]
    },
    {
      "cell_type": "markdown",
      "id": "fitted-fighter",
      "metadata": {
        "id": "fitted-fighter"
      },
      "source": [
        "The constrained least squares problem can also be thought of as a limit of a biobjective\n",
        "least squares problem, with primary objective $\\| Ax - b \\|^2 $ and secondary\n",
        "objective $\\| Cx - d \\|^2 $. Roughly speaking, we put infinite weight on the second\n",
        "objective, so that any nonzero value is unacceptable (which forces $x$ to satisfy\n",
        "$Cx = d$). \n",
        "\n",
        "We would expect that minimizing the weighted objective:\n",
        "$$ \\| Ax - b \\|^2 + \\lambda \\| Cx - d \\|^2 ,$$ \n",
        "for a very large value of $\\lambda$ yields a vector close to a solution of the constrained least squares problem. \n",
        "\n",
        "\n",
        "\n"
      ]
    },
    {
      "cell_type": "markdown",
      "id": "manual-praise",
      "metadata": {
        "id": "manual-praise"
      },
      "source": [
        "The conditions:\n",
        "$$p_1(-0.5) - p_2(-0.5) = 0$$\n",
        "$$p_2(0.5) - p_3(0.5) = 0$$\n",
        "$$and$$\n",
        "$$p_{1}'(-0.5) - p_{2}'(-0.5) = 0$$\n",
        "$$p_{2}'(0.5) - p_{3}'(0.5) = 0$$\n",
        "$$and$$\n",
        "$$p_{1}''(-0.5) - p_{2}''(-0.5) = 0$$\n",
        "$$p_{2}''(0.5) - p_{3}''(0.5) = 0$$\n",
        "are all linear equations."
      ]
    },
    {
      "cell_type": "markdown",
      "id": "synthetic-integer",
      "metadata": {
        "id": "synthetic-integer"
      },
      "source": [
        "## Part (c):\n"
      ]
    },
    {
      "cell_type": "code",
      "execution_count": null,
      "id": "dietary-secretariat",
      "metadata": {
        "id": "dietary-secretariat"
      },
      "outputs": [],
      "source": [
        "def vandermonde(t,n):\n",
        "    m = len(t)\n",
        "    V = np.zeros((m,n))\n",
        "    for i in range(m):\n",
        "        for j in range(n):\n",
        "            V[i,j] = t[i]**(j)\n",
        "    return V"
      ]
    },
    {
      "cell_type": "code",
      "execution_count": null,
      "id": "discrete-blind",
      "metadata": {
        "id": "discrete-blind"
      },
      "outputs": [],
      "source": [
        "def cls_solve(A, b, C, d):\n",
        "    m, n = A.shape\n",
        "    p, n = C.shape\n",
        "    Q, R = QR_factorization(np.vstack([A,C]))\n",
        "    Q1 = Q[:m,:]\n",
        "    Q2 = Q[m:m+p+1,:]\n",
        "    Qtil, Rtil = QR_factorization(Q2.T)\n",
        "    w = solve_via_backsub(Rtil, (2*Qtil.T @ (Q1.T @ b) - 2*solve_via_backsub(Rtil.T, d)))\n",
        "    xhat = solve_via_backsub(R, (Q1.T @ b - Q2.T @ w/2))\n",
        "    return xhat"
      ]
    },
    {
      "cell_type": "code",
      "execution_count": null,
      "id": "identified-reason",
      "metadata": {
        "id": "identified-reason"
      },
      "outputs": [],
      "source": [
        "def cls_solve_kkt(A, b, C, d):\n",
        "    m, n = A.shape\n",
        "    p, n = C.shape\n",
        "    #Gram matrix\n",
        "    G = A.T @ A\n",
        "    #KKT matrix\n",
        "    KKT = np.vstack([np.hstack([2*G,C.T]), np.hstack([C, np.zeros((p,p))])])\n",
        "    xzhat = solve_via_backsub(KKT, np.hstack([2*A.T @ b,d]))\n",
        "    return xzhat[:n]"
      ]
    },
    {
      "cell_type": "markdown",
      "id": "removable-strain",
      "metadata": {
        "id": "removable-strain"
      },
      "source": [
        "---"
      ]
    },
    {
      "cell_type": "code",
      "execution_count": null,
      "id": "animated-excuse",
      "metadata": {
        "id": "animated-excuse"
      },
      "outputs": [],
      "source": [
        "M = 75\n",
        "N = 2*M\n",
        "xleft = x[0:75]\n",
        "xright = x[75:]\n",
        "x = np.hstack([xleft, xright])\n",
        "y = x*(np.exp(-x**2) + np.cos(6*x)) + E\n",
        "n = 4\n",
        "\n",
        "A = np.vstack([np.hstack([vandermonde(xleft,n), np.zeros((M,n))]), np.hstack([np.zeros((M,n)), vandermonde(xright,n)])])\n",
        "b = y\n",
        "C = np.vstack((np.hstack([1,np.zeros(n-1), -1, np.zeros(n-1)]), np.hstack([0, 1, np.zeros(n-2), 0, -1, np.zeros(n-2)])))\n",
        "d = np.zeros(2)\n"
      ]
    },
    {
      "cell_type": "code",
      "execution_count": null,
      "id": "pursuant-belief",
      "metadata": {
        "id": "pursuant-belief",
        "outputId": "109635f0-f351-4acb-f2d8-82dde8cef69b"
      },
      "outputs": [
        {
          "name": "stdout",
          "output_type": "stream",
          "text": [
            "[[ 1.         -0.08239365  0.00678871 ...  0.          0.\n",
            "   0.        ]\n",
            " [ 1.         -0.41163267  0.16944145 ...  0.          0.\n",
            "   0.        ]\n",
            " [ 1.         -0.14480972  0.02096985 ...  0.          0.\n",
            "   0.        ]\n",
            " ...\n",
            " [ 0.          0.          0.         ...  0.97867281  0.95780046\n",
            "   0.93737326]\n",
            " [ 0.          0.          0.         ...  0.2363841   0.05587744\n",
            "   0.01320854]\n",
            " [ 0.          0.          0.         ...  0.66059836  0.43639019\n",
            "   0.28827864]]\n"
          ]
        }
      ],
      "source": [
        "print(A)"
      ]
    },
    {
      "cell_type": "code",
      "execution_count": null,
      "id": "quick-basement",
      "metadata": {
        "id": "quick-basement",
        "outputId": "59482c65-82a3-4168-e41a-4675518c991b"
      },
      "outputs": [
        {
          "name": "stdout",
          "output_type": "stream",
          "text": [
            "[-0.13812154 -0.03140476 -0.24058987 -0.0649467  -0.24930419 -0.23215239\n",
            " -0.00616684 -0.87234948 -0.22647182  0.13495567 -0.83206908 -0.04845671\n",
            " -1.22998161 -0.49481395 -0.25376631 -1.30931433 -0.07685067 -1.28130111\n",
            " -0.00460757 -0.00834545 -0.11820147 -0.12393709  0.10696984  0.14067178\n",
            " -0.01540537 -0.21951645 -0.07035083  0.075544   -0.29501598 -0.01327131\n",
            " -0.20773118 -1.09702747 -0.06424678 -0.26277682 -0.27027094 -0.25363542\n",
            " -1.07038123  0.12418493  0.15385286 -0.16094656  0.13496829 -0.22010215\n",
            " -0.18917571 -0.18554137 -0.07845757 -0.73556712 -0.25632525 -0.24337131\n",
            " -0.17427368 -0.33187662 -0.60072554  0.10708363 -0.03619141 -0.2643624\n",
            " -0.07205918 -0.25200286  0.14396176 -0.96481814 -0.89932507  0.0964323\n",
            " -0.52856865 -0.24625114 -0.04012322 -0.19462082  0.11900957 -1.0250201\n",
            " -0.32104301  0.14855999 -0.47663535 -1.27430537 -0.25165063 -0.23817841\n",
            "  0.00261838 -0.23638446  0.13894022  0.22950025  0.89912609  0.08394548\n",
            "  0.21127258  0.15246292  0.26061806  0.20424323  0.67228424  0.24947556\n",
            " -0.12490175  0.25766268 -0.09920218 -0.06444022  0.16952236  0.1405088\n",
            "  0.89330673 -0.0527248   0.32406112  0.2436983  -0.12205403 -0.00372396\n",
            "  0.07428624  0.216953    0.24956707  0.15634378  0.19798601  0.2478918\n",
            " -0.09943755  0.01204869  0.00580585  0.02357833 -0.10137479  0.25193542\n",
            "  0.25408307  0.26135805  0.69220246  1.28700399  1.04105993  0.12867517\n",
            "  0.40375579 -0.14906161  0.57002277 -0.10330218 -0.11605278  0.43649523\n",
            "  0.18163392 -0.14054617  0.11867429 -0.09572626  1.19087003  0.0710393\n",
            "  0.074687    0.45138037 -0.06767925  0.06542178  0.04999721  0.03274872\n",
            "  0.21450333 -0.03482785  0.1658166   0.25828359  1.08887887  0.04238378\n",
            " -0.1124662   0.25603439 -0.13652092  0.086338    1.11196924  0.8028978\n",
            "  0.25792009  0.24479718  0.1371236   1.27884838  0.26176984 -0.01589506]\n"
          ]
        }
      ],
      "source": [
        "print(b)"
      ]
    },
    {
      "cell_type": "code",
      "execution_count": null,
      "id": "blond-seminar",
      "metadata": {
        "id": "blond-seminar",
        "outputId": "40a56910-6ebf-4fcd-e747-9948a22229cb"
      },
      "outputs": [
        {
          "name": "stdout",
          "output_type": "stream",
          "text": [
            "[[ 1.  0.  0.  0. -1.  0.  0.  0.]\n",
            " [ 0.  1.  0.  0.  0. -1.  0.  0.]]\n"
          ]
        }
      ],
      "source": [
        "print(C)"
      ]
    },
    {
      "cell_type": "code",
      "execution_count": null,
      "id": "photographic-narrow",
      "metadata": {
        "id": "photographic-narrow",
        "outputId": "615b1a08-146f-4894-b817-afc66e165c34"
      },
      "outputs": [
        {
          "name": "stdout",
          "output_type": "stream",
          "text": [
            "[0. 0.]\n"
          ]
        }
      ],
      "source": [
        "print(d)"
      ]
    },
    {
      "cell_type": "code",
      "execution_count": null,
      "id": "opposed-trademark",
      "metadata": {
        "id": "opposed-trademark",
        "outputId": "f6c1f1df-f4bb-4806-8f81-5fd100dac2d4"
      },
      "outputs": [
        {
          "data": {
            "image/png": "[encoded data removed]",
            "text/plain": [
              "<Figure size 432x288 with 1 Axes>"
            ]
          },
          "metadata": {
            "needs_background": "light"
          },
          "output_type": "display_data"
        }
      ],
      "source": [
        "# Plotting Heatmaps:\n",
        "plt.imshow(A.T)\n",
        "plt.show()"
      ]
    },
    {
      "cell_type": "code",
      "execution_count": null,
      "id": "assisted-manufacturer",
      "metadata": {
        "scrolled": true,
        "id": "assisted-manufacturer",
        "outputId": "85b950cf-5052-455a-cdc2-8a0b8329c34b"
      },
      "outputs": [
        {
          "data": {
            "image/png": "[encoded data removed]",
            "text/plain": [
              "<Figure size 432x288 with 1 Axes>"
            ]
          },
          "metadata": {
            "needs_background": "light"
          },
          "output_type": "display_data"
        }
      ],
      "source": [
        "plt.imshow(C)\n",
        "plt.show()"
      ]
    },
    {
      "cell_type": "markdown",
      "id": "polyphonic-contrast",
      "metadata": {
        "id": "polyphonic-contrast"
      },
      "source": [
        "## Part (d):"
      ]
    },
    {
      "cell_type": "code",
      "execution_count": null,
      "id": "spanish-latex",
      "metadata": {
        "id": "spanish-latex",
        "outputId": "769eeb9d-86bb-4895-e82f-ed9bd67ecd99"
      },
      "outputs": [
        {
          "name": "stdout",
          "output_type": "stream",
          "text": [
            "Vectors are linearly independent.\n",
            "Vectors are linearly independent.\n",
            "Vectors are linearly independent.\n",
            "Vectors are linearly independent.\n",
            "Vectors are linearly independent.\n"
          ]
        },
        {
          "data": {
            "image/png": "[encoded data removed]",
            "text/plain": [
              "<Figure size 432x288 with 1 Axes>"
            ]
          },
          "metadata": {
            "needs_background": "light"
          },
          "output_type": "display_data"
        }
      ],
      "source": [
        "theta = cls_solve(A,b,C,d)\n",
        "plt.stem(theta)\n",
        "plt.show()"
      ]
    },
    {
      "cell_type": "markdown",
      "id": "therapeutic-retail",
      "metadata": {
        "id": "therapeutic-retail"
      },
      "source": [
        "## Part (e):"
      ]
    },
    {
      "cell_type": "code",
      "execution_count": null,
      "id": "indoor-racing",
      "metadata": {
        "id": "indoor-racing",
        "outputId": "598e09f5-65b5-4939-b2cf-b91075c348bc"
      },
      "outputs": [
        {
          "data": {
            "image/png": "[encoded data removed]",
            "text/plain": [
              "<Figure size 432x288 with 1 Axes>"
            ]
          },
          "metadata": {
            "needs_background": "light"
          },
          "output_type": "display_data"
        }
      ],
      "source": [
        "plt.ion()\n",
        "\n",
        "Npl = 200\n",
        "xpl_left = np.linspace(-1, 0, Npl)\n",
        "ypl_left = vandermonde(xpl_left, 4) @ theta[:n]\n",
        "xpl_right = np.linspace(0, 1, Npl)\n",
        "ypl_right = vandermonde(xpl_right, 4) @ theta[n:]\n",
        "plt.scatter(x, y)\n",
        "plt.plot(xpl_left, ypl_left, 'orange')\n",
        "plt.plot(xpl_right, ypl_right, 'orange')\n",
        "plt.show()\n"
      ]
    }
  ],
  "metadata": {
    "kernelspec": {
      "display_name": "Python 3",
      "language": "python",
      "name": "python3"
    },
    "language_info": {
      "codemirror_mode": {
        "name": "ipython",
        "version": 3
      },
      "file_extension": ".py",
      "mimetype": "text/x-python",
      "name": "python",
      "nbconvert_exporter": "python",
      "pygments_lexer": "ipython3",
      "version": "3.8.3"
    },
    "toc": {
      "base_numbering": 1,
      "nav_menu": {},
      "number_sections": true,
      "sideBar": true,
      "skip_h1_title": false,
      "title_cell": "Table of Contents",
      "title_sidebar": "Contents",
      "toc_cell": false,
      "toc_position": {
        "height": "calc(100% - 180px)",
        "left": "10px",
        "top": "150px",
        "width": "165px"
      },
      "toc_section_display": true,
      "toc_window_display": true
    },
    "colab": {
      "provenance": []
    }
  },
  "nbformat": 4,
  "nbformat_minor": 5
}