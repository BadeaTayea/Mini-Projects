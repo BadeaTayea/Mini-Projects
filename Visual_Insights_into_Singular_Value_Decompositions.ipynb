{
  "nbformat": 4,
  "nbformat_minor": 0,
  "metadata": {
    "colab": {
      "provenance": [],
      "toc_visible": true
    },
    "kernelspec": {
      "name": "python3",
      "display_name": "Python 3"
    },
    "language_info": {
      "name": "python"
    }
  },
  "cells": [
    {
      "cell_type": "markdown",
      "source": [
        "# Relevant Mathematical Background"
      ],
      "metadata": {
        "id": "OJn4Xq-28ghD"
      }
    },
    {
      "cell_type": "markdown",
      "source": [
        "- The singular value decomposition is arguably the most important exact matrix decomposition, and it is used extensively in data analysis, signal processing, image processing, and many other fields. \n",
        "\n",
        "- The decomposition has the following form:\n",
        "$$A = U \\Sigma V^T$$\n",
        "Here $U,V$ orthonormal, $\\Sigma$ diagonal with positive entries. These entries can be sorted and are called the singular values. The columns of $U$ and $V$ are known as the singular vectors.\n",
        "\n",
        "- Many important properties of the matrix $A$ can be extracted from its SVD.\n",
        "\n",
        "  * A $m\\times n$ matrix $A$ represents a linear transformation $f$ between two spaces $f: \\mathbb{R}^n \\rightarrow \\mathbb{R}^m$. The existence of SVD is a manifestation of the following fact: \n",
        "Every linear transformation can be viewed as a rotation followed by an independent scaling along the coordinates, followed by an other rotation.\n",
        "$$\n",
        "Ax = U (\\Sigma (V^\\top x))\n",
        "$$\n",
        "\n",
        "  * The left singular vectors in matrix $U$ represent the relationships between the rows of $A$.\n",
        "  *The right singular vectors in matrix $V$ represent the relationships between the columns of $A$.\n",
        "  *The singular values in matrix $\\Sigma$ represent the strength of these relationship\n",
        "\n"
      ],
      "metadata": {
        "id": "y2psWyAD856w"
      }
    },
    {
      "cell_type": "markdown",
      "source": [
        "# SVD Visualization"
      ],
      "metadata": {
        "id": "L0aNjsYe_7Ig"
      }
    },
    {
      "cell_type": "markdown",
      "source": [
        "## Setup and Helper Functions"
      ],
      "metadata": {
        "id": "s5w8qfuzAmvV"
      }
    },
    {
      "cell_type": "code",
      "source": [
        "%matplotlib inline\n",
        "\n",
        "import matplotlib.pyplot as plt\n",
        "import numpy as np\n",
        "\n",
        "from ipywidgets import interact, interactive, fixed\n",
        "import ipywidgets as widgets\n",
        "from IPython.display import clear_output, display, HTML\n",
        "from matplotlib import rc"
      ],
      "metadata": {
        "id": "x1NGMZSeA07F"
      },
      "execution_count": 10,
      "outputs": []
    },
    {
      "cell_type": "code",
      "source": [
        "import matplotlib as mpl\n",
        "mpl.rcParams.update(mpl.rcParamsDefault)"
      ],
      "metadata": {
        "id": "o9Fv9C54Bohh"
      },
      "execution_count": 11,
      "outputs": []
    },
    {
      "cell_type": "code",
      "source": [
        "def pnorm_ball_points(A=np.eye(2), mu=np.array([0,0]),p=2, N=128):\n",
        "    '''\n",
        "    Creates the points on a p normball y = A x + \\mu \n",
        "    where x are points on the unit circle.\n",
        "    '''\n",
        "    if p is np.infty:\n",
        "    \tX = np.array([[1,1],[1,-1],[-1,-1],[-1,1],[1,1]]).T\n",
        "    else:\n",
        "\t    th = np.arange(0, 2*np.pi+np.pi/N, np.pi/N)\n",
        "\t    X = np.array([np.cos(th),np.sin(th)])\n",
        "\t    X = X*(1/(np.abs(X[0,:])**p + np.abs(X[1,:])**p ))**(1/p)\n",
        "\n",
        "\n",
        "    Y = np.dot(A, X)\n",
        "    data_x = mu[0]+Y[0,:]\n",
        "    data_y = mu[1]+Y[1,:]\n",
        "    return data_x, data_y"
      ],
      "metadata": {
        "id": "UqH9lYsZANUx"
      },
      "execution_count": 12,
      "outputs": []
    },
    {
      "cell_type": "code",
      "source": [
        "def bmatrix(a):\n",
        "    \"\"\"Returns a LaTeX bmatrix\n",
        "    :a: numpy array\n",
        "    :returns: LaTeX bmatrix as a string\n",
        "    \"\"\"\n",
        "    if len(a.shape) > 2:\n",
        "        raise ValueError('bmatrix can at most display two dimensions')\n",
        "    lines = str(a).replace('[', '').replace(']', '').splitlines()\n",
        "    rv = [r'$\\left(\\begin{array}{cc}']\n",
        "    rv += ['  ' + ' & '.join(l.split()) + r'\\\\' for l in lines]\n",
        "    rv +=  [r'\\end{array}\\right)$']\n",
        "    return ''.join(rv)"
      ],
      "metadata": {
        "id": "7Fd8yvRdAunH"
      },
      "execution_count": 13,
      "outputs": []
    },
    {
      "cell_type": "code",
      "source": [
        "# rc('font',**{'family':'sans-serif','sans-serif':['Helvetica']})\n",
        "## for Palatino and other serif fonts use:\n",
        "#rc('font',**{'family':'serif','serif':['Palatino']})\n",
        "# rc('text', usetex=False)"
      ],
      "metadata": {
        "id": "GHnaZR3-CPWA"
      },
      "execution_count": null,
      "outputs": []
    },
    {
      "cell_type": "markdown",
      "source": [
        "## Visualizing SVD Transformations"
      ],
      "metadata": {
        "id": "E0FV7oAICkBm"
      }
    },
    {
      "cell_type": "code",
      "execution_count": 16,
      "metadata": {
        "colab": {
          "base_uri": "https://localhost:8080/",
          "height": 181
        },
        "id": "oF5DEooL8ap3",
        "outputId": "814cd3cf-37cc-493e-bb19-1718fdcc5729"
      },
      "outputs": [
        {
          "output_type": "display_data",
          "data": {
            "text/plain": [
              "<Figure size 1600x400 with 4 Axes>"
            ],
            "image/png": "[encoded data removed]"
          },
          "metadata": {}
        }
      ],
      "source": [
        "np.set_printoptions(precision=3, suppress=True)\n",
        "\n",
        "fig = plt.figure(figsize=(16,4))\n",
        "\n",
        "ax1 = plt.subplot(1,4,4)\n",
        "ax2 = plt.subplot(1,4,3)\n",
        "ax3 = plt.subplot(1,4,2)\n",
        "ax4 = plt.subplot(1,4,1)\n",
        "\n",
        "dx,dy = pnorm_ball_points()\n",
        "X = np.c_[dx,dy].T\n",
        "B = np.c_[np.zeros((2,1)), np.eye(2)]\n",
        "\n",
        "ln_domain_ball = plt.Line2D(dx,dy,markeredgecolor='k', linewidth=1, color='b')\n",
        "ln_e1 = plt.Line2D(B[0,[0,1]],B[1,[0,1]],markeredgecolor='k', marker='o', color='b')\n",
        "ln_e2 = plt.Line2D(B[0,[0,2]],B[1,[0,2]],markeredgecolor='k', markerfacecolor='w', marker='o', color='k')\n",
        "\n",
        "ax1.add_line(ln_domain_ball)\n",
        "ax1.add_line(ln_e1)\n",
        "ax1.add_line(ln_e2)\n",
        "ax1.set_xlim([-4,4])\n",
        "ax1.set_ylim([-4,4])\n",
        "ax1.set_aspect('equal')\n",
        "ax1.set_title('$I$')\n",
        "\n",
        "A = np.random.randn(2,2)\n",
        "U,S,V=np.linalg.svd(A)\n",
        "\n",
        "X = V.dot(X)\n",
        "B = V.dot(B)\n",
        "ln_VTx = plt.Line2D(X[0,:],X[1,:],markeredgecolor='k', linewidth=1, color='b')\n",
        "ln_VTe1 = plt.Line2D(B[0,[0,1]],B[1,[0,1]],markeredgecolor='k', marker='o', color='b')\n",
        "ln_VTe2 = plt.Line2D(B[0,[0,2]],B[1,[0,2]],markeredgecolor='k', markerfacecolor='w', marker='o', color='k')\n",
        "\n",
        "ax2.add_line(ln_VTx)\n",
        "ax2.add_line(ln_VTe1)\n",
        "ax2.add_line(ln_VTe2)\n",
        "\n",
        "ax2.set_xlim([-4,4])\n",
        "ax2.set_ylim([-4,4])\n",
        "ax2.set_aspect('equal')\n",
        "ax2.set_title('$V^\\\\top$')\n",
        "\n",
        "S = np.diag(S)\n",
        "X = S.dot(X)\n",
        "B = S.dot(B)\n",
        "ln_SVTx = plt.Line2D(X[0,:],X[1,:],markeredgecolor='k', linewidth=1, color='b')\n",
        "ln_SVTe1 = plt.Line2D(B[0,[0,1]],B[1,[0,1]],markeredgecolor='k', marker='o', color='b')\n",
        "ln_SVTe2 = plt.Line2D(B[0,[0,2]],B[1,[0,2]],markeredgecolor='k', markerfacecolor='w', marker='o', color='k')\n",
        "\n",
        "ax3.add_line(ln_SVTx)\n",
        "ax3.add_line(ln_SVTe1)\n",
        "ax3.add_line(ln_SVTe2)\n",
        "\n",
        "ax3.set_xlim([-4,4])\n",
        "ax3.set_ylim([-4,4])\n",
        "ax3.set_aspect('equal')\n",
        "ax3.set_title(r'$\\Sigma V^\\top$')\n",
        "\n",
        "X = U.dot(X)\n",
        "B = U.dot(B)\n",
        "ln_USVTx = plt.Line2D(X[0,:],X[1,:],markeredgecolor='k', linewidth=1, color='b')\n",
        "ln_USVTe1 = plt.Line2D(B[0,[0,1]],B[1,[0,1]],markeredgecolor='k', marker='o', color='b')\n",
        "ln_USVTe2 = plt.Line2D(B[0,[0,2]],B[1,[0,2]],markeredgecolor='k', markerfacecolor='w', marker='o', color='k')\n",
        "\n",
        "ax4.add_line(ln_USVTx)\n",
        "ax4.add_line(ln_USVTe1)\n",
        "ax4.add_line(ln_USVTe2)\n",
        "\n",
        "ax4.set_xlim([-4,4])\n",
        "ax4.set_ylim([-4,4])\n",
        "ax4.set_aspect('equal')\n",
        "ax4.set_title(r'$U \\Sigma V^\\top$')\n",
        "\n",
        "plt.show()"
      ]
    },
    {
      "cell_type": "markdown",
      "source": [
        "* SVD gives an approximation to the matrix $A$ in terms of rank one matrices\n",
        "\n",
        "$$\n",
        "A = U\\Sigma V^\\top\n",
        "$$\n",
        "\n",
        "$$\n",
        "A = \\sigma_1 u_1 v_1^\\top + \\sigma_2 u_2 v_2^\\top + \\dots + \\sigma_n u_n v_n^\\top\n",
        "$$\n",
        "\n",
        "* For any $r$ smaller than the rank $R=\\min(M,N)$ of the matrix $A$, we can obtain the best \n",
        "approximation, i.e.,\n",
        "$$\n",
        "A_r = \\sum_{i=1}^r \\sigma_r u_r v_r^\\top \n",
        "$$\n",
        "\n",
        "The error $E = A - A_r$ is smallest (as measured by $\\|E\\|_F^2$) for any rank $r$ approximation of $A$.\n",
        "\n",
        "* Columns of matrix $U$ are known as 'Principal Components'\n",
        "\n"
      ],
      "metadata": {
        "id": "I2Xh4HBRDT4q"
      }
    },
    {
      "cell_type": "code",
      "source": [
        "%matplotlib inline\n",
        "import matplotlib.pyplot as plt\n",
        "import numpy as np\n",
        "import scipy as sc\n",
        "import scipy.linalg as la\n",
        "\n",
        "M = 5\n",
        "N = 7\n",
        "\n",
        "Range = 50\n",
        "A = np.ceil(2*Range*np.random.rand(M, N)-Range)\n",
        "\n",
        "\n",
        "def show_matrix(X, Range=Range, cmap='bwr', cbar=True):\n",
        "    plt.imshow(X, interpolation='nearest', cmap=cmap, vmin=-Range, vmax=Range)\n",
        "    if cbar:\n",
        "        plt.colorbar()\n",
        "    plt.xticks([])\n",
        "    plt.yticks([])\n",
        "\n",
        "\n",
        "plt.figure(figsize=(5,5))\n",
        "show_matrix(A)\n",
        "plt.show()\n",
        "\n",
        "U,S,Vt = la.svd(A)\n",
        "Sig = la.diagsvd(S, M, N)\n",
        "\n",
        "plt.figure(figsize=(15,5))\n",
        "plt.subplot(1,3,1)\n",
        "show_matrix(U, cmap='bwr', Range=1)\n",
        "plt.title('U')\n",
        "plt.subplot(1,3,2)\n",
        "show_matrix(Sig, cmap='bwr')\n",
        "plt.title('Sigma')\n",
        "plt.subplot(1,3,3)\n",
        "show_matrix(Vt, cmap='bwr', Range=1)\n",
        "plt.title('Vt')\n",
        "plt.show()"
      ],
      "metadata": {
        "colab": {
          "base_uri": "https://localhost:8080/",
          "height": 517
        },
        "id": "kmVycmJgAF1l",
        "outputId": "64ce60a5-7a87-465c-c6e9-968064fd6128"
      },
      "execution_count": 18,
      "outputs": [
        {
          "output_type": "display_data",
          "data": {
            "text/plain": [
              "<Figure size 360x360 with 2 Axes>"
            ],
            "image/png": "[encoded data removed]"
          },
          "metadata": {
            "needs_background": "light"
          }
        },
        {
          "output_type": "display_data",
          "data": {
            "text/plain": [
              "<Figure size 1080x360 with 6 Axes>"
            ],
            "image/png": "[encoded data removed]"
          },
          "metadata": {
            "needs_background": "light"
          }
        }
      ]
    },
    {
      "cell_type": "code",
      "source": [
        "plt.figure()\n",
        "plt.title('S = diag(Sigma)')\n",
        "rr = range(1,len(S)+1)\n",
        "plt.stem(rr, S)\n",
        "plt.show()\n",
        "\n",
        "E = []\n",
        "plt.figure(figsize=(15,4))\n",
        "maxRank = min(M,N)\n",
        "for rnk in range(maxRank):\n",
        "    Sr = np.zeros_like(S)\n",
        "    Sr[0:rnk+1] = S[0:rnk+1]\n",
        "    Sig = la.diagsvd(Sr, M, N)\n",
        "    A2 = np.dot(np.dot(U, Sig), Vt)\n",
        "    \n",
        "    e = np.sum((A - A2)**2)\n",
        "    E.append(e)\n",
        "    \n",
        "    plt.subplot(1,M,rnk+1)\n",
        "    show_matrix(A2, cmap='bwr', Range=Range, cbar=False)\n",
        "    \n",
        "plt.show()\n",
        "\n",
        "\n",
        "plt.figure(figsize=(15,4))\n",
        "for rnk in range(maxRank):\n",
        "    Sr = np.zeros_like(S)\n",
        "    Sr[rnk] = S[rnk]\n",
        "    Sig = la.diagsvd(Sr, M, N)\n",
        "    A2 = np.dot(np.dot(U, Sig), Vt)\n",
        "    plt.subplot(1,M,rnk+1)\n",
        "    show_matrix(A2, cmap='bwr', Range=Range, cbar=False)\n",
        "    \n",
        "plt.show()"
      ],
      "metadata": {
        "colab": {
          "base_uri": "https://localhost:8080/",
          "height": 512
        },
        "id": "ZRcWCiQPDdzn",
        "outputId": "3eab2030-d96d-4ec8-a750-fbbec66daf24"
      },
      "execution_count": 20,
      "outputs": [
        {
          "output_type": "stream",
          "name": "stderr",
          "text": [
            "<ipython-input-20-fd4a974443f4>:4: UserWarning: In Matplotlib 3.3 individual lines on a stem plot will be added as a LineCollection instead of individual lines. This significantly improves the performance of a stem plot. To remove this warning and switch to the new behaviour, set the \"use_line_collection\" keyword argument to True.\n",
            "  plt.stem(rr, S)\n"
          ]
        },
        {
          "output_type": "display_data",
          "data": {
            "text/plain": [
              "<Figure size 432x288 with 1 Axes>"
            ],
            "image/png": "[encoded data removed]"
          },
          "metadata": {
            "needs_background": "light"
          }
        },
        {
          "output_type": "display_data",
          "data": {
            "text/plain": [
              "<Figure size 1080x288 with 5 Axes>"
            ],
            "image/png": "[encoded data removed]"
          },
          "metadata": {}
        },
        {
          "output_type": "display_data",
          "data": {
            "text/plain": [
              "<Figure size 1080x288 with 5 Axes>"
            ],
            "image/png": "[encoded data removed]"
          },
          "metadata": {}
        }
      ]
    },
    {
      "cell_type": "code",
      "source": [
        "plt.figure(figsize=(10,6))\n",
        "plt.subplot(2,2,3)\n",
        "ylim = np.sum(S**2)\n",
        "plt.ylim([0, ylim])\n",
        "plt.title('S**2')\n",
        "rr = range(1,len(S)+1)\n",
        "plt.stem(rr, S**2)\n",
        "\n",
        "plt.subplot(2,2,4)\n",
        "plt.title('cumsum(S**2)')\n",
        "plt.stem(rr,np.cumsum(S**2))\n",
        "\n",
        "plt.subplot(2,2,2)\n",
        "plt.ylim(ylim)\n",
        "plt.title('Square Error of Rank r approximation')\n",
        "plt.stem(rr,E)\n",
        "\n",
        "plt.subplot(2,2,1)\n",
        "plt.title('S')\n",
        "plt.stem(rr, S)\n",
        "\n",
        "plt.show()"
      ],
      "metadata": {
        "colab": {
          "base_uri": "https://localhost:8080/",
          "height": 549
        },
        "id": "vmnggYDTGfxD",
        "outputId": "8c1038a7-7820-47e7-fbc1-5cc4c8f5c326"
      },
      "execution_count": 21,
      "outputs": [
        {
          "output_type": "stream",
          "name": "stderr",
          "text": [
            "<ipython-input-21-c114dae2edc7>:7: UserWarning: In Matplotlib 3.3 individual lines on a stem plot will be added as a LineCollection instead of individual lines. This significantly improves the performance of a stem plot. To remove this warning and switch to the new behaviour, set the \"use_line_collection\" keyword argument to True.\n",
            "  plt.stem(rr, S**2)\n",
            "<ipython-input-21-c114dae2edc7>:11: UserWarning: In Matplotlib 3.3 individual lines on a stem plot will be added as a LineCollection instead of individual lines. This significantly improves the performance of a stem plot. To remove this warning and switch to the new behaviour, set the \"use_line_collection\" keyword argument to True.\n",
            "  plt.stem(rr,np.cumsum(S**2))\n",
            "<ipython-input-21-c114dae2edc7>:16: UserWarning: In Matplotlib 3.3 individual lines on a stem plot will be added as a LineCollection instead of individual lines. This significantly improves the performance of a stem plot. To remove this warning and switch to the new behaviour, set the \"use_line_collection\" keyword argument to True.\n",
            "  plt.stem(rr,E)\n",
            "<ipython-input-21-c114dae2edc7>:20: UserWarning: In Matplotlib 3.3 individual lines on a stem plot will be added as a LineCollection instead of individual lines. This significantly improves the performance of a stem plot. To remove this warning and switch to the new behaviour, set the \"use_line_collection\" keyword argument to True.\n",
            "  plt.stem(rr, S)\n"
          ]
        },
        {
          "output_type": "display_data",
          "data": {
            "text/plain": [
              "<Figure size 720x432 with 4 Axes>"
            ],
            "image/png": "[encoded data removed]"
          },
          "metadata": {
            "needs_background": "light"
          }
        }
      ]
    },
    {
      "cell_type": "code",
      "source": [],
      "metadata": {
        "id": "LajAPoAQGwFy"
      },
      "execution_count": null,
      "outputs": []
    }
  ]
}