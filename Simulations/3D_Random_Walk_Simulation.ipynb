{
  "nbformat": 4,
  "nbformat_minor": 0,
  "metadata": {
    "colab": {
      "provenance": []
    },
    "kernelspec": {
      "name": "python3",
      "display_name": "Python 3"
    },
    "language_info": {
      "name": "python"
    }
  },
  "cells": [
    {
      "cell_type": "code",
      "execution_count": 7,
      "metadata": {
        "colab": {
          "base_uri": "https://localhost:8080/"
        },
        "id": "uDZ3UJxCXzAZ",
        "outputId": "c55ab46c-0a39-47af-f4a4-cbef2c42b0ec"
      },
      "outputs": [
        {
          "output_type": "stream",
          "name": "stdout",
          "text": [
            "Returns to origin percentage: 0.001\n",
            "Average squared distance from origin: 97.43\n"
          ]
        }
      ],
      "source": [
        "import random\n",
        "\n",
        "def random_walk_3d(steps):\n",
        "    x, y, z = 0, 0, 0\n",
        "    for _ in range(steps):\n",
        "        (dx, dy, dz) = random.choice([(1,0,0), (-1,0,0), (0,1,0), (0,-1,0), (0,0,1), (0,0,-1)])\n",
        "        x += dx\n",
        "        y += dy\n",
        "        z += dz\n",
        "    return (x, y, z)\n",
        "\n",
        "steps = 100\n",
        "walks = 1000\n",
        "returns_to_origin = 0\n",
        "distance_squared_sum = 0\n",
        "\n",
        "for _ in range(walks):\n",
        "    walk = random_walk_3d(steps)\n",
        "    if walk == (0, 0, 0):\n",
        "        returns_to_origin += 1\n",
        "    distance_squared_sum += sum(x*x for x in walk)\n",
        "\n",
        "returns_to_origin_percentage = returns_to_origin / walks\n",
        "average_distance_squared = distance_squared_sum / walks\n",
        "\n",
        "print(f\"Returns to origin percentage: {returns_to_origin_percentage}\")\n",
        "print(f\"Average squared distance from origin: {average_distance_squared}\")"
      ]
    }
  ]
}
